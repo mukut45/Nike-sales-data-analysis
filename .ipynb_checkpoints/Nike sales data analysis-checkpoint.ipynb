{
 "cells": [
  {
   "cell_type": "markdown",
   "id": "fc350988-ebfa-4daa-a13e-3cd1bb6fbe44",
   "metadata": {},
   "source": [
    "### Nike sales data analysis"
   ]
  },
  {
   "cell_type": "code",
   "execution_count": 377,
   "id": "ef69ef93-966f-4132-9685-1ebfe1c934dd",
   "metadata": {},
   "outputs": [
    {
     "name": "stdout",
     "output_type": "stream",
     "text": [
      "   Order_ID Gender_Category Product_Line    Product_Name Size  Units_Sold  \\\n",
      "0      2000            Kids     Training     SuperRep Go    M         NaN   \n",
      "1      2001           Women       Soccer   Tiempo Legend    M         3.0   \n",
      "2      2002           Women       Soccer     Premier III    M         4.0   \n",
      "3      2003            Kids    Lifestyle      Blazer Mid    L         NaN   \n",
      "4      2004            Kids      Running  React Infinity   XL         NaN   \n",
      "\n",
      "       MRP  Discount_Applied  Revenue  Order_Date Sales_Channel     Region  \\\n",
      "0      NaN              0.47      0.0  2024-03-09        Online  bengaluru   \n",
      "1  4957.93               NaN      0.0  2024-07-09        Retail        Hyd   \n",
      "2      NaN               NaN      0.0         NaN        Retail     Mumbai   \n",
      "3  9673.57               NaN      0.0  04-10-2024        Online       Pune   \n",
      "4      NaN               NaN      0.0  2024/09/12        Retail      Delhi   \n",
      "\n",
      "    Profit  \n",
      "0  -770.45  \n",
      "1  -112.53  \n",
      "2  3337.34  \n",
      "3  3376.85  \n",
      "4   187.89  \n"
     ]
    }
   ],
   "source": [
    "import pandas as pd\n",
    "import matplotlib.pyplot as plt\n",
    "df =pd.read_csv(r\"D:\\Information Technology\\nike sales data\\Nike_Sales_Uncleaned.csv\")\n",
    "print(df.head())"
   ]
  },
  {
   "cell_type": "code",
   "execution_count": 379,
   "id": "4488f296-0a15-4352-81de-9b6c1726366e",
   "metadata": {},
   "outputs": [
    {
     "name": "stdout",
     "output_type": "stream",
     "text": [
      "          Order_ID   Units_Sold          MRP  Discount_Applied       Revenue  \\\n",
      "count  2500.000000  1265.000000  1246.000000        832.000000   2500.000000   \n",
      "mean   3194.352400     1.482213  6039.863395          0.631022    274.873716   \n",
      "std     749.972638     1.696947  2315.746826          0.365500   2023.773550   \n",
      "min    2000.000000    -1.000000  2006.630000          0.000000  -7561.590000   \n",
      "25%    2534.750000     0.000000  4038.902500          0.320000      0.000000   \n",
      "50%    3192.500000     2.000000  6110.030000          0.615000      0.000000   \n",
      "75%    3841.250000     3.000000  8022.187500          0.962500      0.000000   \n",
      "max    4499.000000     4.000000  9996.220000          1.250000  37169.350000   \n",
      "\n",
      "            Profit  \n",
      "count  2500.000000  \n",
      "mean   1376.012848  \n",
      "std    1478.671013  \n",
      "min   -1199.450000  \n",
      "25%      93.532500  \n",
      "50%    1371.385000  \n",
      "75%    2660.645000  \n",
      "max    3999.210000  \n"
     ]
    }
   ],
   "source": [
    "print(df.describe())"
   ]
  },
  {
   "cell_type": "code",
   "execution_count": 381,
   "id": "fa80db36-f6e6-4661-bbd3-1430f0a2e65d",
   "metadata": {},
   "outputs": [
    {
     "name": "stdout",
     "output_type": "stream",
     "text": [
      "<class 'pandas.core.frame.DataFrame'>\n",
      "RangeIndex: 2500 entries, 0 to 2499\n",
      "Data columns (total 13 columns):\n",
      " #   Column            Non-Null Count  Dtype  \n",
      "---  ------            --------------  -----  \n",
      " 0   Order_ID          2500 non-null   int64  \n",
      " 1   Gender_Category   2500 non-null   object \n",
      " 2   Product_Line      2500 non-null   object \n",
      " 3   Product_Name      2500 non-null   object \n",
      " 4   Size              1990 non-null   object \n",
      " 5   Units_Sold        1265 non-null   float64\n",
      " 6   MRP               1246 non-null   float64\n",
      " 7   Discount_Applied  832 non-null    float64\n",
      " 8   Revenue           2500 non-null   float64\n",
      " 9   Order_Date        1884 non-null   object \n",
      " 10  Sales_Channel     2500 non-null   object \n",
      " 11  Region            2500 non-null   object \n",
      " 12  Profit            2500 non-null   float64\n",
      "dtypes: float64(5), int64(1), object(7)\n",
      "memory usage: 254.0+ KB\n"
     ]
    }
   ],
   "source": [
    "df.info()"
   ]
  },
  {
   "cell_type": "code",
   "execution_count": 383,
   "id": "56d4f2b7-2d54-4ed5-b8c8-510cc83bdd85",
   "metadata": {},
   "outputs": [
    {
     "data": {
      "text/plain": [
       "Order_ID               0\n",
       "Gender_Category        0\n",
       "Product_Line           0\n",
       "Product_Name           0\n",
       "Size                 510\n",
       "Units_Sold          1235\n",
       "MRP                 1254\n",
       "Discount_Applied    1668\n",
       "Revenue                0\n",
       "Order_Date           616\n",
       "Sales_Channel          0\n",
       "Region                 0\n",
       "Profit                 0\n",
       "dtype: int64"
      ]
     },
     "execution_count": 383,
     "metadata": {},
     "output_type": "execute_result"
    }
   ],
   "source": [
    "df.isnull().sum()"
   ]
  },
  {
   "cell_type": "code",
   "execution_count": 385,
   "id": "3ca1576a-aaf6-4acf-878b-5cd40b256399",
   "metadata": {},
   "outputs": [
    {
     "name": "stderr",
     "output_type": "stream",
     "text": [
      "C:\\Users\\Dell\\AppData\\Local\\Temp\\ipykernel_10260\\3815930172.py:3: FutureWarning: A value is trying to be set on a copy of a DataFrame or Series through chained assignment using an inplace method.\n",
      "The behavior will change in pandas 3.0. This inplace method will never work because the intermediate object on which we are setting values always behaves as a copy.\n",
      "\n",
      "For example, when doing 'df[col].method(value, inplace=True)', try using 'df.method({col: value}, inplace=True)' or df[col] = df[col].method(value) instead, to perform the operation inplace on the original object.\n",
      "\n",
      "\n",
      "  df['Size'].fillna(mode_value, inplace=True)\n"
     ]
    }
   ],
   "source": [
    "# Assuming df is your DataFrame\n",
    "mode_value = df['Size'].mode().iloc[0]  # Get the first mode value (in case there are multiple)\n",
    "df['Size'].fillna(mode_value, inplace=True)"
   ]
  },
  {
   "cell_type": "code",
   "execution_count": 387,
   "id": "dc175521-3874-4828-a4cc-26da5e5f8d0f",
   "metadata": {},
   "outputs": [
    {
     "data": {
      "text/plain": [
       "Order_ID               0\n",
       "Gender_Category        0\n",
       "Product_Line           0\n",
       "Product_Name           0\n",
       "Size                   0\n",
       "Units_Sold          1235\n",
       "MRP                 1254\n",
       "Discount_Applied    1668\n",
       "Revenue                0\n",
       "Order_Date           616\n",
       "Sales_Channel          0\n",
       "Region                 0\n",
       "Profit                 0\n",
       "dtype: int64"
      ]
     },
     "execution_count": 387,
     "metadata": {},
     "output_type": "execute_result"
    }
   ],
   "source": [
    "df.isnull().sum()"
   ]
  },
  {
   "cell_type": "code",
   "execution_count": 389,
   "id": "6e70517c-0c78-4353-b368-cc1dada84d06",
   "metadata": {},
   "outputs": [
    {
     "name": "stderr",
     "output_type": "stream",
     "text": [
      "C:\\Users\\Dell\\AppData\\Local\\Temp\\ipykernel_10260\\2145724716.py:1: FutureWarning: A value is trying to be set on a copy of a DataFrame or Series through chained assignment using an inplace method.\n",
      "The behavior will change in pandas 3.0. This inplace method will never work because the intermediate object on which we are setting values always behaves as a copy.\n",
      "\n",
      "For example, when doing 'df[col].method(value, inplace=True)', try using 'df.method({col: value}, inplace=True)' or df[col] = df[col].method(value) instead, to perform the operation inplace on the original object.\n",
      "\n",
      "\n",
      "  df['Units_Sold'].fillna('0', inplace=True)\n",
      "C:\\Users\\Dell\\AppData\\Local\\Temp\\ipykernel_10260\\2145724716.py:1: FutureWarning: Setting an item of incompatible dtype is deprecated and will raise an error in a future version of pandas. Value '0' has dtype incompatible with float64, please explicitly cast to a compatible dtype first.\n",
      "  df['Units_Sold'].fillna('0', inplace=True)\n"
     ]
    }
   ],
   "source": [
    "df['Units_Sold'].fillna('0', inplace=True)"
   ]
  },
  {
   "cell_type": "code",
   "execution_count": 391,
   "id": "02a8f8b8-4485-4faa-99ee-2650019cf5ae",
   "metadata": {},
   "outputs": [
    {
     "data": {
      "text/plain": [
       "Order_ID               0\n",
       "Gender_Category        0\n",
       "Product_Line           0\n",
       "Product_Name           0\n",
       "Size                   0\n",
       "Units_Sold             0\n",
       "MRP                 1254\n",
       "Discount_Applied    1668\n",
       "Revenue                0\n",
       "Order_Date           616\n",
       "Sales_Channel          0\n",
       "Region                 0\n",
       "Profit                 0\n",
       "dtype: int64"
      ]
     },
     "execution_count": 391,
     "metadata": {},
     "output_type": "execute_result"
    }
   ],
   "source": [
    "df.isnull().sum()"
   ]
  },
  {
   "cell_type": "code",
   "execution_count": 392,
   "id": "785e8acb-71e2-4374-866e-cf8470be5a12",
   "metadata": {},
   "outputs": [
    {
     "name": "stderr",
     "output_type": "stream",
     "text": [
      "C:\\Users\\Dell\\AppData\\Local\\Temp\\ipykernel_10260\\56281200.py:1: FutureWarning: A value is trying to be set on a copy of a DataFrame or Series through chained assignment using an inplace method.\n",
      "The behavior will change in pandas 3.0. This inplace method will never work because the intermediate object on which we are setting values always behaves as a copy.\n",
      "\n",
      "For example, when doing 'df[col].method(value, inplace=True)', try using 'df.method({col: value}, inplace=True)' or df[col] = df[col].method(value) instead, to perform the operation inplace on the original object.\n",
      "\n",
      "\n",
      "  df['MRP'].fillna(df['MRP'].mean(), inplace=True)\n"
     ]
    }
   ],
   "source": [
    "df['MRP'].fillna(df['MRP'].mean(), inplace=True)"
   ]
  },
  {
   "cell_type": "code",
   "execution_count": 395,
   "id": "eb6459f2-a655-4620-925b-2bd03a2130ca",
   "metadata": {
    "scrolled": true
   },
   "outputs": [
    {
     "data": {
      "text/plain": [
       "Order_ID               0\n",
       "Gender_Category        0\n",
       "Product_Line           0\n",
       "Product_Name           0\n",
       "Size                   0\n",
       "Units_Sold             0\n",
       "MRP                    0\n",
       "Discount_Applied    1668\n",
       "Revenue                0\n",
       "Order_Date           616\n",
       "Sales_Channel          0\n",
       "Region                 0\n",
       "Profit                 0\n",
       "dtype: int64"
      ]
     },
     "execution_count": 395,
     "metadata": {},
     "output_type": "execute_result"
    }
   ],
   "source": [
    "df.isnull().sum()"
   ]
  },
  {
   "cell_type": "code",
   "execution_count": 397,
   "id": "529467f7-37cd-441a-8962-b342dc177a21",
   "metadata": {},
   "outputs": [
    {
     "name": "stderr",
     "output_type": "stream",
     "text": [
      "C:\\Users\\Dell\\AppData\\Local\\Temp\\ipykernel_10260\\1900317627.py:1: FutureWarning: A value is trying to be set on a copy of a DataFrame or Series through chained assignment using an inplace method.\n",
      "The behavior will change in pandas 3.0. This inplace method will never work because the intermediate object on which we are setting values always behaves as a copy.\n",
      "\n",
      "For example, when doing 'df[col].method(value, inplace=True)', try using 'df.method({col: value}, inplace=True)' or df[col] = df[col].method(value) instead, to perform the operation inplace on the original object.\n",
      "\n",
      "\n",
      "  df['Discount_Applied'].fillna('0', inplace=True)\n",
      "C:\\Users\\Dell\\AppData\\Local\\Temp\\ipykernel_10260\\1900317627.py:1: FutureWarning: Setting an item of incompatible dtype is deprecated and will raise an error in a future version of pandas. Value '0' has dtype incompatible with float64, please explicitly cast to a compatible dtype first.\n",
      "  df['Discount_Applied'].fillna('0', inplace=True)\n"
     ]
    }
   ],
   "source": [
    "df['Discount_Applied'].fillna('0', inplace=True)"
   ]
  },
  {
   "cell_type": "code",
   "execution_count": 399,
   "id": "a2c33d13-9374-480d-872d-6deb8991f404",
   "metadata": {},
   "outputs": [
    {
     "data": {
      "text/plain": [
       "Order_ID              0\n",
       "Gender_Category       0\n",
       "Product_Line          0\n",
       "Product_Name          0\n",
       "Size                  0\n",
       "Units_Sold            0\n",
       "MRP                   0\n",
       "Discount_Applied      0\n",
       "Revenue               0\n",
       "Order_Date          616\n",
       "Sales_Channel         0\n",
       "Region                0\n",
       "Profit                0\n",
       "dtype: int64"
      ]
     },
     "execution_count": 399,
     "metadata": {},
     "output_type": "execute_result"
    }
   ],
   "source": [
    "df.isnull().sum()"
   ]
  },
  {
   "cell_type": "code",
   "execution_count": 401,
   "id": "710813b0-0712-49c7-a3c5-0241e07918c3",
   "metadata": {},
   "outputs": [],
   "source": [
    "df = df[df['Order_Date'].notna()]            # Remove NaN (null) values\n",
    "df = df[df['Order_Date'].str.strip() != '']  # Remove empty strings if any"
   ]
  },
  {
   "cell_type": "code",
   "execution_count": 403,
   "id": "206a940a-03ab-49d3-8076-444cc6777310",
   "metadata": {},
   "outputs": [
    {
     "data": {
      "text/plain": [
       "Order_ID            0\n",
       "Gender_Category     0\n",
       "Product_Line        0\n",
       "Product_Name        0\n",
       "Size                0\n",
       "Units_Sold          0\n",
       "MRP                 0\n",
       "Discount_Applied    0\n",
       "Revenue             0\n",
       "Order_Date          0\n",
       "Sales_Channel       0\n",
       "Region              0\n",
       "Profit              0\n",
       "dtype: int64"
      ]
     },
     "execution_count": 403,
     "metadata": {},
     "output_type": "execute_result"
    }
   ],
   "source": [
    "df.isnull().sum()"
   ]
  },
  {
   "cell_type": "code",
   "execution_count": 405,
   "id": "f3f3e139-c31a-4d8a-8300-56b1a4b3c863",
   "metadata": {},
   "outputs": [
    {
     "name": "stdout",
     "output_type": "stream",
     "text": [
      "   Order_ID Gender_Category Product_Line    Product_Name Size Units_Sold  \\\n",
      "0      2000            Kids     Training     SuperRep Go    M          0   \n",
      "1      2001           Women       Soccer   Tiempo Legend    M        3.0   \n",
      "3      2003            Kids    Lifestyle      Blazer Mid    L          0   \n",
      "4      2004            Kids      Running  React Infinity   XL          0   \n",
      "6      2006             Men     Training     SuperRep Go    M          0   \n",
      "\n",
      "           MRP Discount_Applied  Revenue  Order_Date Sales_Channel     Region  \\\n",
      "0  6039.863395             0.47      0.0  2024-03-09        Online  bengaluru   \n",
      "1  4957.930000                0      0.0  2024-07-09        Retail        Hyd   \n",
      "3  9673.570000                0      0.0  04-10-2024        Online       Pune   \n",
      "4  6039.863395                0      0.0  2024/09/12        Retail      Delhi   \n",
      "6  6819.780000                0      0.0  04-06-2025        Online  Bangalore   \n",
      "\n",
      "    Profit  \n",
      "0  -770.45  \n",
      "1  -112.53  \n",
      "3  3376.85  \n",
      "4   187.89  \n",
      "6  1802.09  \n"
     ]
    }
   ],
   "source": [
    "print(df.head())"
   ]
  },
  {
   "cell_type": "code",
   "execution_count": 407,
   "id": "15eee628-94e3-4104-9d97-35e1d469f1c1",
   "metadata": {},
   "outputs": [
    {
     "data": {
      "text/plain": [
       "7"
      ]
     },
     "execution_count": 407,
     "metadata": {},
     "output_type": "execute_result"
    }
   ],
   "source": [
    "df['Units_Sold'].nunique()"
   ]
  },
  {
   "cell_type": "code",
   "execution_count": 409,
   "id": "08b5880f-d79d-484b-ac3d-ff8f00b91560",
   "metadata": {},
   "outputs": [
    {
     "name": "stdout",
     "output_type": "stream",
     "text": [
      "['0' 3.0 -1.0 1.0 4.0 0.0 2.0]\n"
     ]
    }
   ],
   "source": [
    "print(df['Units_Sold'].unique())"
   ]
  },
  {
   "cell_type": "code",
   "execution_count": 411,
   "id": "d008f80f-30a3-4e7a-bbe0-e7dd32e8fd7c",
   "metadata": {},
   "outputs": [
    {
     "data": {
      "text/plain": [
       "158"
      ]
     },
     "execution_count": 411,
     "metadata": {},
     "output_type": "execute_result"
    }
   ],
   "source": [
    "count_minus_1 = (df['Units_Sold'] == -1).sum()\n",
    "count_minus_1"
   ]
  },
  {
   "cell_type": "code",
   "execution_count": 413,
   "id": "360bb008-95ad-46c0-a3b0-181d57ffa770",
   "metadata": {},
   "outputs": [],
   "source": [
    "df = df[df['Units_Sold'] != -1]"
   ]
  },
  {
   "cell_type": "code",
   "execution_count": 415,
   "id": "ff3e9ea2-2233-4dfc-80ac-20ac163c518f",
   "metadata": {},
   "outputs": [
    {
     "name": "stdout",
     "output_type": "stream",
     "text": [
      "['0' 3.0 1.0 4.0 0.0 2.0]\n"
     ]
    }
   ],
   "source": [
    "print(df['Units_Sold'].unique())"
   ]
  },
  {
   "cell_type": "code",
   "execution_count": 417,
   "id": "aa74e9fa-2b2c-416a-b94e-49829d469612",
   "metadata": {},
   "outputs": [
    {
     "data": {
      "text/plain": [
       "Index(['Order_ID', 'Gender_Category', 'Product_Line', 'Product_Name', 'Size',\n",
       "       'Units_Sold', 'MRP', 'Discount_Applied', 'Revenue', 'Order_Date',\n",
       "       'Sales_Channel', 'Region', 'Profit'],\n",
       "      dtype='object')"
      ]
     },
     "execution_count": 417,
     "metadata": {},
     "output_type": "execute_result"
    }
   ],
   "source": [
    "df.columns"
   ]
  },
  {
   "cell_type": "code",
   "execution_count": 419,
   "id": "39ad5be5-58cf-48bd-ac45-24093f8f2caa",
   "metadata": {},
   "outputs": [
    {
     "name": "stdout",
     "output_type": "stream",
     "text": [
      "['Kids' 'Women' 'Men']\n"
     ]
    }
   ],
   "source": [
    "print(df['Gender_Category'].unique())"
   ]
  },
  {
   "cell_type": "code",
   "execution_count": 421,
   "id": "c71b69c9-c8d5-4256-b0a9-b5f802ca7ffb",
   "metadata": {},
   "outputs": [
    {
     "data": {
      "text/plain": [
       "586"
      ]
     },
     "execution_count": 421,
     "metadata": {},
     "output_type": "execute_result"
    }
   ],
   "source": [
    "count_kids = (df['Gender_Category'] == 'Kids').sum()\n",
    "count_kids"
   ]
  },
  {
   "cell_type": "code",
   "execution_count": 423,
   "id": "0bd8e9d2-8e36-46a9-9c9e-3794c794d384",
   "metadata": {},
   "outputs": [
    {
     "data": {
      "text/plain": [
       "560"
      ]
     },
     "execution_count": 423,
     "metadata": {},
     "output_type": "execute_result"
    }
   ],
   "source": [
    "count_woman = (df['Gender_Category'] == 'Women').sum()\n",
    "count_woman"
   ]
  },
  {
   "cell_type": "code",
   "execution_count": 425,
   "id": "78594dc2-c8ad-4965-ae01-f688d7a13cc5",
   "metadata": {},
   "outputs": [
    {
     "data": {
      "text/plain": [
       "580"
      ]
     },
     "execution_count": 425,
     "metadata": {},
     "output_type": "execute_result"
    }
   ],
   "source": [
    "count_man = (df['Gender_Category'] == 'Men').sum()\n",
    "count_man"
   ]
  },
  {
   "cell_type": "code",
   "execution_count": 427,
   "id": "5a2943ef-8efd-45d2-add8-9a10735140fb",
   "metadata": {},
   "outputs": [
    {
     "name": "stdout",
     "output_type": "stream",
     "text": [
      "['Training' 'Soccer' 'Lifestyle' 'Running' 'Basketball']\n"
     ]
    }
   ],
   "source": [
    "print(df['Product_Line'].unique())"
   ]
  },
  {
   "cell_type": "code",
   "execution_count": 429,
   "id": "d4f2cd0e-3ac5-45e1-94a1-cb9e0add95ad",
   "metadata": {},
   "outputs": [
    {
     "data": {
      "text/html": [
       "<div>\n",
       "<style scoped>\n",
       "    .dataframe tbody tr th:only-of-type {\n",
       "        vertical-align: middle;\n",
       "    }\n",
       "\n",
       "    .dataframe tbody tr th {\n",
       "        vertical-align: top;\n",
       "    }\n",
       "\n",
       "    .dataframe thead th {\n",
       "        text-align: right;\n",
       "    }\n",
       "</style>\n",
       "<table border=\"1\" class=\"dataframe\">\n",
       "  <thead>\n",
       "    <tr style=\"text-align: right;\">\n",
       "      <th></th>\n",
       "      <th>Product_Line</th>\n",
       "      <th>Product_Name</th>\n",
       "    </tr>\n",
       "  </thead>\n",
       "  <tbody>\n",
       "    <tr>\n",
       "      <th>0</th>\n",
       "      <td>Basketball</td>\n",
       "      <td>368</td>\n",
       "    </tr>\n",
       "    <tr>\n",
       "      <th>1</th>\n",
       "      <td>Lifestyle</td>\n",
       "      <td>353</td>\n",
       "    </tr>\n",
       "    <tr>\n",
       "      <th>2</th>\n",
       "      <td>Running</td>\n",
       "      <td>315</td>\n",
       "    </tr>\n",
       "    <tr>\n",
       "      <th>3</th>\n",
       "      <td>Soccer</td>\n",
       "      <td>329</td>\n",
       "    </tr>\n",
       "    <tr>\n",
       "      <th>4</th>\n",
       "      <td>Training</td>\n",
       "      <td>361</td>\n",
       "    </tr>\n",
       "  </tbody>\n",
       "</table>\n",
       "</div>"
      ],
      "text/plain": [
       "  Product_Line  Product_Name\n",
       "0   Basketball           368\n",
       "1    Lifestyle           353\n",
       "2      Running           315\n",
       "3       Soccer           329\n",
       "4     Training           361"
      ]
     },
     "execution_count": 429,
     "metadata": {},
     "output_type": "execute_result"
    }
   ],
   "source": [
    "df.groupby('Product_Line')['Product_Name'].count().reset_index()"
   ]
  },
  {
   "cell_type": "code",
   "execution_count": 431,
   "id": "6781574f-5c13-4e31-a1f2-d57c95b9aaee",
   "metadata": {},
   "outputs": [
    {
     "name": "stdout",
     "output_type": "stream",
     "text": [
      "   Order_ID Gender_Category Product_Line    Product_Name Size Units_Sold  \\\n",
      "0      2000            Kids     Training     SuperRep Go    M          0   \n",
      "1      2001           Women       Soccer   Tiempo Legend    M        3.0   \n",
      "3      2003            Kids    Lifestyle      Blazer Mid    L          0   \n",
      "4      2004            Kids      Running  React Infinity   XL          0   \n",
      "6      2006             Men     Training     SuperRep Go    M          0   \n",
      "\n",
      "           MRP Discount_Applied  Revenue  Order_Date Sales_Channel     Region  \\\n",
      "0  6039.863395             0.47      0.0  2024-03-09        Online  bengaluru   \n",
      "1  4957.930000                0      0.0  2024-07-09        Retail        Hyd   \n",
      "3  9673.570000                0      0.0  04-10-2024        Online       Pune   \n",
      "4  6039.863395                0      0.0  2024/09/12        Retail      Delhi   \n",
      "6  6819.780000                0      0.0  04-06-2025        Online  Bangalore   \n",
      "\n",
      "    Profit  \n",
      "0  -770.45  \n",
      "1  -112.53  \n",
      "3  3376.85  \n",
      "4   187.89  \n",
      "6  1802.09  \n"
     ]
    }
   ],
   "source": [
    "print(df.head())"
   ]
  },
  {
   "cell_type": "code",
   "execution_count": 433,
   "id": "e63e16a9-c1a2-46ec-bfdd-07941a97afb6",
   "metadata": {},
   "outputs": [
    {
     "name": "stdout",
     "output_type": "stream",
     "text": [
      "          Product_Name  Units_Sold\n",
      "0          Air Force 1          82\n",
      "1           Air Jordan         102\n",
      "2             Air Zoom          71\n",
      "3           Blazer Mid          93\n",
      "4             Dunk Low          85\n",
      "5         Flex Trainer          89\n",
      "6              Free RN          78\n",
      "7        Kyrie Flytrap          79\n",
      "8            LeBron 20          98\n",
      "9   Mercurial Superfly          77\n",
      "10            Metcon 7          80\n",
      "11       Pegasus Turbo          69\n",
      "12          Phantom GT          91\n",
      "13         Premier III          86\n",
      "14      React Infinity          97\n",
      "15         SuperRep Go          97\n",
      "16       Tiempo Legend          75\n",
      "17          Waffle One          93\n",
      "18          Zoom Freak          89\n",
      "19    ZoomX Invincible          95\n"
     ]
    }
   ],
   "source": [
    "product_counts = df.groupby('Product_Name')['Units_Sold'].count().reset_index()\n",
    "print(product_counts)"
   ]
  },
  {
   "cell_type": "code",
   "execution_count": 477,
   "id": "7b177bdf-5a55-40fd-9c28-50f4a3595134",
   "metadata": {},
   "outputs": [
    {
     "name": "stdout",
     "output_type": "stream",
     "text": [
      "        Product_Name  Units_Sold\n",
      "1         Air Jordan         102\n",
      "8          LeBron 20          98\n",
      "15       SuperRep Go          97\n",
      "14    React Infinity          97\n",
      "19  ZoomX Invincible          95\n",
      "3         Blazer Mid          93\n",
      "17        Waffle One          93\n",
      "12        Phantom GT          91\n",
      "18        Zoom Freak          89\n",
      "5       Flex Trainer          89\n"
     ]
    }
   ],
   "source": [
    "product_counts = product_counts.sort_values(by='Units_Sold', ascending=False)\n",
    "print(product_counts.head(10)) # top 10 most sold products"
   ]
  },
  {
   "cell_type": "code",
   "execution_count": 487,
   "id": "47a6d8c7-f17f-46bb-b08e-7987c74b498f",
   "metadata": {},
   "outputs": [
    {
     "data": {
      "image/png": "[encoded data removed]",
      "text/plain": [
       "<Figure size 1200x600 with 1 Axes>"
      ]
     },
     "metadata": {},
     "output_type": "display_data"
    }
   ],
   "source": [
    "# Plot for the above logic\n",
    "plt.figure(figsize=(12, 6))\n",
    "plt.bar(product_counts['Product_Name'], product_counts['Units_Sold'], color='skyblue')\n",
    "plt.xlabel('Product Name')\n",
    "plt.ylabel('Units Sold (Count)')\n",
    "plt.title('Units Sold Count by Product Name')\n",
    "plt.xticks(rotation=90, ha='right')\n",
    "plt.tight_layout()\n",
    "plt.show()"
   ]
  },
  {
   "cell_type": "code",
   "execution_count": 436,
   "id": "c32ec2dc-c191-4570-bf3c-0912ac2b1f39",
   "metadata": {},
   "outputs": [
    {
     "name": "stdout",
     "output_type": "stream",
     "text": [
      "  Product_Line  Units_Sold\n",
      "0   Basketball         368\n",
      "1    Lifestyle         353\n",
      "2      Running         315\n",
      "3       Soccer         329\n",
      "4     Training         361\n"
     ]
    }
   ],
   "source": [
    "print(df.groupby('Product_Line')['Units_Sold'].count().reset_index())"
   ]
  },
  {
   "cell_type": "code",
   "execution_count": 437,
   "id": "db434fc7-0656-478a-a2fc-bc3806488381",
   "metadata": {},
   "outputs": [
    {
     "name": "stdout",
     "output_type": "stream",
     "text": [
      "['Online' 'Retail']\n"
     ]
    }
   ],
   "source": [
    "print(df['Sales_Channel'].unique())"
   ]
  },
  {
   "cell_type": "code",
   "execution_count": 441,
   "id": "7ca26873-8fa0-4ff0-a376-120d0e752b33",
   "metadata": {},
   "outputs": [
    {
     "name": "stdout",
     "output_type": "stream",
     "text": [
      "866\n"
     ]
    }
   ],
   "source": [
    "count_online = (df['Sales_Channel'] == 'Online').sum()\n",
    "print(count_online)"
   ]
  },
  {
   "cell_type": "code",
   "execution_count": 443,
   "id": "b5f39214-ae92-4cf5-b268-04a3d52a57fe",
   "metadata": {},
   "outputs": [
    {
     "data": {
      "text/plain": [
       "860"
      ]
     },
     "execution_count": 443,
     "metadata": {},
     "output_type": "execute_result"
    }
   ],
   "source": [
    "count_Retail = (df['Sales_Channel'] == 'Retail').sum()\n",
    "count_Retail"
   ]
  },
  {
   "cell_type": "code",
   "execution_count": 445,
   "id": "4c71c2bf-ec97-41c0-b1af-e14b076939d7",
   "metadata": {},
   "outputs": [
    {
     "name": "stdout",
     "output_type": "stream",
     "text": [
      "['bengaluru' 'Hyd' 'Pune' 'Delhi' 'Bangalore' 'hyderbad' 'Kolkata'\n",
      " 'Hyderabad' 'Mumbai']\n"
     ]
    }
   ],
   "source": [
    "print(df['Region'].unique())"
   ]
  },
  {
   "cell_type": "code",
   "execution_count": 447,
   "id": "5d717f7c-ff98-4f63-befb-ceda63991b24",
   "metadata": {},
   "outputs": [],
   "source": [
    "df['Region'] = df['Region'].replace({'Bengaluru': 'Bangalore', 'bengaluru': 'Bangalore'})"
   ]
  },
  {
   "cell_type": "code",
   "execution_count": 449,
   "id": "fc6ff858-6598-4071-a9e8-c7e4c3e2807b",
   "metadata": {},
   "outputs": [
    {
     "name": "stdout",
     "output_type": "stream",
     "text": [
      "['Bangalore' 'Hyd' 'Pune' 'Delhi' 'hyderbad' 'Kolkata' 'Hyderabad'\n",
      " 'Mumbai']\n"
     ]
    }
   ],
   "source": [
    "print(df['Region'].unique())"
   ]
  },
  {
   "cell_type": "code",
   "execution_count": 451,
   "id": "ebaa772c-ce3c-467c-8364-b3377bf31ed2",
   "metadata": {},
   "outputs": [],
   "source": [
    "df['Region'] = df['Region'].replace({'Hyd': 'hyderbad'})"
   ]
  },
  {
   "cell_type": "code",
   "execution_count": 453,
   "id": "f141c019-6c19-4792-bab0-33c5533387f7",
   "metadata": {},
   "outputs": [
    {
     "name": "stdout",
     "output_type": "stream",
     "text": [
      "['Bangalore' 'hyderbad' 'Pune' 'Delhi' 'Kolkata' 'Hyderabad' 'Mumbai']\n"
     ]
    }
   ],
   "source": [
    "print(df['Region'].unique())"
   ]
  },
  {
   "cell_type": "code",
   "execution_count": 455,
   "id": "677e48d8-9b2c-4eba-9f12-a13722955fe7",
   "metadata": {},
   "outputs": [],
   "source": [
    "df['Region'] = df['Region'].replace({'hyderbad': 'Hyderabad'})"
   ]
  },
  {
   "cell_type": "code",
   "execution_count": 457,
   "id": "4a55f629-e738-4c84-8434-9d9bf727bb0d",
   "metadata": {},
   "outputs": [
    {
     "name": "stdout",
     "output_type": "stream",
     "text": [
      "['Bangalore' 'Hyderabad' 'Pune' 'Delhi' 'Kolkata' 'Mumbai']\n"
     ]
    }
   ],
   "source": [
    "print(df['Region'].unique())"
   ]
  },
  {
   "cell_type": "code",
   "execution_count": 459,
   "id": "2ca57f21-2527-4137-a8c8-966da0aa3ef1",
   "metadata": {},
   "outputs": [],
   "source": [
    "df['Product_Name'] = df['Product_Name'].astype(str)\n",
    "df['Region'] = df['Region'].astype(str)"
   ]
  },
  {
   "cell_type": "code",
   "execution_count": 461,
   "id": "df3da535-e965-4fc5-8343-5ab55530e8c9",
   "metadata": {},
   "outputs": [],
   "source": [
    "df['Units_Sold'] = pd.to_numeric(df['Units_Sold'], errors='coerce')"
   ]
  },
  {
   "cell_type": "code",
   "execution_count": 463,
   "id": "4d59963a-363d-43fa-b0fa-48d4f357f9cf",
   "metadata": {},
   "outputs": [
    {
     "name": "stdout",
     "output_type": "stream",
     "text": [
      "      Region Product_Name  Units_Sold\n",
      "0  Bangalore  Air Force 1        15.0\n",
      "1  Bangalore   Air Jordan        11.0\n",
      "2  Bangalore     Air Zoom         8.0\n",
      "3  Bangalore   Blazer Mid        12.0\n",
      "4  Bangalore     Dunk Low        12.0\n"
     ]
    }
   ],
   "source": [
    "# Count of each product per region\n",
    "region_product_sales = df.groupby(['Region', 'Product_Name'])['Units_Sold'].sum().reset_index()\n",
    "print(region_product_sales.head())"
   ]
  },
  {
   "cell_type": "code",
   "execution_count": 465,
   "id": "f3f3a915-4688-4c61-89d0-1e81f3862560",
   "metadata": {},
   "outputs": [
    {
     "name": "stdout",
     "output_type": "stream",
     "text": [
      "      Region  Units_Sold\n",
      "0  Bangalore         301\n",
      "1      Delhi         296\n",
      "2  Hyderabad         288\n",
      "3    Kolkata         285\n",
      "4     Mumbai         295\n"
     ]
    }
   ],
   "source": [
    "region_sales = df.groupby('Region')['Units_Sold'].count().reset_index()\n",
    "print(region_sales.head())"
   ]
  },
  {
   "cell_type": "code",
   "execution_count": 471,
   "id": "0cc32f2d-6bc7-4142-9938-93cbe651e2db",
   "metadata": {},
   "outputs": [
    {
     "data": {
      "image/png": "[encoded data removed]",
      "text/plain": [
       "<Figure size 1200x600 with 1 Axes>"
      ]
     },
     "metadata": {},
     "output_type": "display_data"
    }
   ],
   "source": [
    "# Plot the above logics\n",
    "plt.figure(figsize=(12, 6))\n",
    "plt.bar(region_sales['Region'], region_sales['Units_Sold'], color='green')\n",
    "plt.xlabel('Region')\n",
    "plt.ylabel('Units Sold (Count)')\n",
    "plt.title('Units Sold Count by Region')\n",
    "plt.xticks(rotation=0, ha='right')\n",
    "plt.tight_layout()\n",
    "plt.show()"
   ]
  },
  {
   "cell_type": "code",
   "execution_count": 473,
   "id": "98693a6e-43a0-43f9-ae74-9853e1bc0a7a",
   "metadata": {},
   "outputs": [
    {
     "name": "stdout",
     "output_type": "stream",
     "text": [
      "            Product_Name      MRP\n",
      "1414            Dunk Low  9996.22\n",
      "1579           LeBron 20  9995.55\n",
      "1970          Phantom GT  9990.80\n",
      "1405            Dunk Low  9986.17\n",
      "1661    ZoomX Invincible  9979.38\n",
      "1551         SuperRep Go  9948.15\n",
      "659            LeBron 20  9945.56\n",
      "1019             Free RN  9942.61\n",
      "326             Dunk Low  9936.94\n",
      "867   Mercurial Superfly  9936.58\n"
     ]
    }
   ],
   "source": [
    "# Sort by MRP in descending order\n",
    "top_10_mrp_products = df.sort_values(by='MRP', ascending=False)[['Product_Name', 'MRP']].head(10)\n",
    "\n",
    "# Display top 10 mrp product list\n",
    "print(top_10_mrp_products)"
   ]
  },
  {
   "cell_type": "code",
   "execution_count": 479,
   "id": "fb8fdc49-da91-4fb5-9ed2-3ba526f5022c",
   "metadata": {},
   "outputs": [
    {
     "name": "stdout",
     "output_type": "stream",
     "text": [
      "       Product_Name      MRP\n",
      "0        Air Jordan  9751.00\n",
      "1        Blazer Mid  9799.16\n",
      "2      Flex Trainer  9847.52\n",
      "3         LeBron 20  9995.55\n",
      "4        Phantom GT  9990.80\n",
      "5    React Infinity  9839.63\n",
      "6       SuperRep Go  9948.15\n",
      "7        Waffle One  9701.24\n",
      "8        Zoom Freak  9848.80\n",
      "9  ZoomX Invincible  9979.38\n"
     ]
    }
   ],
   "source": [
    "# List of top product names\n",
    "top_products = [\n",
    "    'Air Jordan', 'LeBron 20', 'SuperRep Go', 'React Infinity',\n",
    "    'ZoomX Invincible', 'Blazer Mid', 'Waffle One',\n",
    "    'Phantom GT', 'Zoom Freak', 'Flex Trainer'\n",
    "]\n",
    "# Filter the original DataFrame for these products\n",
    "top_mrp = df[df['Product_Name'].isin(top_products)]\n",
    "\n",
    "# Get max (or average) MRP per product\n",
    "top_mrp = top_mrp.groupby('Product_Name')['MRP'].max().reset_index()\n",
    "\n",
    "# Display the result\n",
    "print(top_mrp)"
   ]
  },
  {
   "cell_type": "code",
   "execution_count": 489,
   "id": "ff98e45a-0295-404c-9b7d-0e8c82d789f8",
   "metadata": {},
   "outputs": [
    {
     "data": {
      "text/html": [
       "<div>\n",
       "<style scoped>\n",
       "    .dataframe tbody tr th:only-of-type {\n",
       "        vertical-align: middle;\n",
       "    }\n",
       "\n",
       "    .dataframe tbody tr th {\n",
       "        vertical-align: top;\n",
       "    }\n",
       "\n",
       "    .dataframe thead th {\n",
       "        text-align: right;\n",
       "    }\n",
       "</style>\n",
       "<table border=\"1\" class=\"dataframe\">\n",
       "  <thead>\n",
       "    <tr style=\"text-align: right;\">\n",
       "      <th></th>\n",
       "      <th>Order_ID</th>\n",
       "      <th>Gender_Category</th>\n",
       "      <th>Product_Line</th>\n",
       "      <th>Product_Name</th>\n",
       "      <th>Size</th>\n",
       "      <th>Units_Sold</th>\n",
       "      <th>MRP</th>\n",
       "      <th>Discount_Applied</th>\n",
       "      <th>Revenue</th>\n",
       "      <th>Order_Date</th>\n",
       "      <th>Sales_Channel</th>\n",
       "      <th>Region</th>\n",
       "      <th>Profit</th>\n",
       "    </tr>\n",
       "  </thead>\n",
       "  <tbody>\n",
       "    <tr>\n",
       "      <th>15</th>\n",
       "      <td>2015</td>\n",
       "      <td>Kids</td>\n",
       "      <td>Basketball</td>\n",
       "      <td>Air Jordan</td>\n",
       "      <td>L</td>\n",
       "      <td>0.0</td>\n",
       "      <td>3285.520000</td>\n",
       "      <td>0</td>\n",
       "      <td>0.0</td>\n",
       "      <td>31-05-2025</td>\n",
       "      <td>Retail</td>\n",
       "      <td>Kolkata</td>\n",
       "      <td>1193.21</td>\n",
       "    </tr>\n",
       "    <tr>\n",
       "      <th>17</th>\n",
       "      <td>2017</td>\n",
       "      <td>Women</td>\n",
       "      <td>Basketball</td>\n",
       "      <td>Air Jordan</td>\n",
       "      <td>9</td>\n",
       "      <td>4.0</td>\n",
       "      <td>6039.863395</td>\n",
       "      <td>0</td>\n",
       "      <td>0.0</td>\n",
       "      <td>17-03-2025</td>\n",
       "      <td>Retail</td>\n",
       "      <td>Delhi</td>\n",
       "      <td>1946.24</td>\n",
       "    </tr>\n",
       "    <tr>\n",
       "      <th>34</th>\n",
       "      <td>2034</td>\n",
       "      <td>Men</td>\n",
       "      <td>Basketball</td>\n",
       "      <td>Air Jordan</td>\n",
       "      <td>6</td>\n",
       "      <td>0.0</td>\n",
       "      <td>6235.710000</td>\n",
       "      <td>0</td>\n",
       "      <td>0.0</td>\n",
       "      <td>30-04-2025</td>\n",
       "      <td>Retail</td>\n",
       "      <td>Delhi</td>\n",
       "      <td>-267.37</td>\n",
       "    </tr>\n",
       "    <tr>\n",
       "      <th>48</th>\n",
       "      <td>2048</td>\n",
       "      <td>Women</td>\n",
       "      <td>Basketball</td>\n",
       "      <td>Air Jordan</td>\n",
       "      <td>XL</td>\n",
       "      <td>0.0</td>\n",
       "      <td>6039.863395</td>\n",
       "      <td>0</td>\n",
       "      <td>0.0</td>\n",
       "      <td>27-10-2024</td>\n",
       "      <td>Online</td>\n",
       "      <td>Bangalore</td>\n",
       "      <td>2875.86</td>\n",
       "    </tr>\n",
       "    <tr>\n",
       "      <th>51</th>\n",
       "      <td>2051</td>\n",
       "      <td>Women</td>\n",
       "      <td>Basketball</td>\n",
       "      <td>Air Jordan</td>\n",
       "      <td>XL</td>\n",
       "      <td>0.0</td>\n",
       "      <td>6039.863395</td>\n",
       "      <td>0.37</td>\n",
       "      <td>0.0</td>\n",
       "      <td>2024-01-05</td>\n",
       "      <td>Retail</td>\n",
       "      <td>Delhi</td>\n",
       "      <td>3135.98</td>\n",
       "    </tr>\n",
       "  </tbody>\n",
       "</table>\n",
       "</div>"
      ],
      "text/plain": [
       "    Order_ID Gender_Category Product_Line Product_Name Size  Units_Sold  \\\n",
       "15      2015            Kids   Basketball   Air Jordan    L         0.0   \n",
       "17      2017           Women   Basketball   Air Jordan    9         4.0   \n",
       "34      2034             Men   Basketball   Air Jordan    6         0.0   \n",
       "48      2048           Women   Basketball   Air Jordan   XL         0.0   \n",
       "51      2051           Women   Basketball   Air Jordan   XL         0.0   \n",
       "\n",
       "            MRP Discount_Applied  Revenue  Order_Date Sales_Channel  \\\n",
       "15  3285.520000                0      0.0  31-05-2025        Retail   \n",
       "17  6039.863395                0      0.0  17-03-2025        Retail   \n",
       "34  6235.710000                0      0.0  30-04-2025        Retail   \n",
       "48  6039.863395                0      0.0  27-10-2024        Online   \n",
       "51  6039.863395             0.37      0.0  2024-01-05        Retail   \n",
       "\n",
       "       Region   Profit  \n",
       "15    Kolkata  1193.21  \n",
       "17      Delhi  1946.24  \n",
       "34      Delhi  -267.37  \n",
       "48  Bangalore  2875.86  \n",
       "51      Delhi  3135.98  "
      ]
     },
     "execution_count": 489,
     "metadata": {},
     "output_type": "execute_result"
    }
   ],
   "source": [
    "air_jordan_data = df[df['Product_Name'] == 'Air Jordan']\n",
    "air_jordan_data.head()"
   ]
  },
  {
   "cell_type": "code",
   "execution_count": 497,
   "id": "eff39145-0c5a-46d2-b9bd-aeb616ad5928",
   "metadata": {},
   "outputs": [
    {
     "name": "stdout",
     "output_type": "stream",
     "text": [
      "[3285.52       6039.86339486 6235.71       9751.         4251.74\n",
      " 3939.34       9520.5        9593.65       6331.64       8267.56\n",
      " 5967.92       8141.8        7520.63       3572.52       9605.11\n",
      " 4776.83       5123.35       4278.28       8605.73       2809.8\n",
      " 8132.33       4597.23       8666.84       6435.2        3015.02\n",
      " 3427.03       2277.83       8046.47       9405.77       3328.45\n",
      " 5000.49       2825.86       8741.65       4135.26       6830.98\n",
      " 3500.16       3701.59       3176.7        2633.72       3455.53\n",
      " 6985.01       8313.84       3208.18       9250.25       8918.66\n",
      " 9700.41       6966.16       4613.79       4105.06       4529.52\n",
      " 6754.13       4469.12       4393.46       7607.91       6378.45\n",
      " 5981.92      ]\n"
     ]
    }
   ],
   "source": [
    "print(air_jordan_data['MRP'].unique()) # check all the MRP of air_jordan shoes"
   ]
  },
  {
   "cell_type": "code",
   "execution_count": 499,
   "id": "be75284e-7794-4287-ad90-053ecf5b5288",
   "metadata": {},
   "outputs": [
    {
     "name": "stdout",
     "output_type": "stream",
     "text": [
      "56\n"
     ]
    }
   ],
   "source": [
    "print(air_jordan_data['MRP'].nunique()) # air_jordan has 56 different MRP shoes"
   ]
  },
  {
   "cell_type": "code",
   "execution_count": 503,
   "id": "54d90d9d-9873-47be-94e4-4b6198c61d8e",
   "metadata": {},
   "outputs": [
    {
     "data": {
      "text/plain": [
       "Order_ID            0\n",
       "Gender_Category     0\n",
       "Product_Line        0\n",
       "Product_Name        0\n",
       "Size                0\n",
       "Units_Sold          0\n",
       "MRP                 0\n",
       "Discount_Applied    0\n",
       "Revenue             0\n",
       "Order_Date          0\n",
       "Sales_Channel       0\n",
       "Region              0\n",
       "Profit              0\n",
       "dtype: int64"
      ]
     },
     "execution_count": 503,
     "metadata": {},
     "output_type": "execute_result"
    }
   ],
   "source": [
    "air_jordan_data.isnull().sum()"
   ]
  },
  {
   "cell_type": "code",
   "execution_count": 505,
   "id": "e355636c-76df-4654-9fe4-4adb6461d7a1",
   "metadata": {},
   "outputs": [],
   "source": [
    "air_jordan_data = air_jordan_data[air_jordan_data['Units_Sold'] != 0.0]"
   ]
  },
  {
   "cell_type": "code",
   "execution_count": 507,
   "id": "a9e14b5b-6f38-4ce2-a12c-ca66f830fb6c",
   "metadata": {},
   "outputs": [
    {
     "data": {
      "text/html": [
       "<div>\n",
       "<style scoped>\n",
       "    .dataframe tbody tr th:only-of-type {\n",
       "        vertical-align: middle;\n",
       "    }\n",
       "\n",
       "    .dataframe tbody tr th {\n",
       "        vertical-align: top;\n",
       "    }\n",
       "\n",
       "    .dataframe thead th {\n",
       "        text-align: right;\n",
       "    }\n",
       "</style>\n",
       "<table border=\"1\" class=\"dataframe\">\n",
       "  <thead>\n",
       "    <tr style=\"text-align: right;\">\n",
       "      <th></th>\n",
       "      <th>Order_ID</th>\n",
       "      <th>Gender_Category</th>\n",
       "      <th>Product_Line</th>\n",
       "      <th>Product_Name</th>\n",
       "      <th>Size</th>\n",
       "      <th>Units_Sold</th>\n",
       "      <th>MRP</th>\n",
       "      <th>Discount_Applied</th>\n",
       "      <th>Revenue</th>\n",
       "      <th>Order_Date</th>\n",
       "      <th>Sales_Channel</th>\n",
       "      <th>Region</th>\n",
       "      <th>Profit</th>\n",
       "    </tr>\n",
       "  </thead>\n",
       "  <tbody>\n",
       "    <tr>\n",
       "      <th>17</th>\n",
       "      <td>2017</td>\n",
       "      <td>Women</td>\n",
       "      <td>Basketball</td>\n",
       "      <td>Air Jordan</td>\n",
       "      <td>9</td>\n",
       "      <td>4.0</td>\n",
       "      <td>6039.863395</td>\n",
       "      <td>0</td>\n",
       "      <td>0.00</td>\n",
       "      <td>17-03-2025</td>\n",
       "      <td>Retail</td>\n",
       "      <td>Delhi</td>\n",
       "      <td>1946.24</td>\n",
       "    </tr>\n",
       "    <tr>\n",
       "      <th>62</th>\n",
       "      <td>2062</td>\n",
       "      <td>Men</td>\n",
       "      <td>Basketball</td>\n",
       "      <td>Air Jordan</td>\n",
       "      <td>L</td>\n",
       "      <td>2.0</td>\n",
       "      <td>6039.863395</td>\n",
       "      <td>0</td>\n",
       "      <td>0.00</td>\n",
       "      <td>06-06-2025</td>\n",
       "      <td>Online</td>\n",
       "      <td>Bangalore</td>\n",
       "      <td>1823.91</td>\n",
       "    </tr>\n",
       "    <tr>\n",
       "      <th>63</th>\n",
       "      <td>2063</td>\n",
       "      <td>Women</td>\n",
       "      <td>Basketball</td>\n",
       "      <td>Air Jordan</td>\n",
       "      <td>M</td>\n",
       "      <td>1.0</td>\n",
       "      <td>9751.000000</td>\n",
       "      <td>0.16</td>\n",
       "      <td>8190.84</td>\n",
       "      <td>06-09-2024</td>\n",
       "      <td>Retail</td>\n",
       "      <td>Pune</td>\n",
       "      <td>1130.31</td>\n",
       "    </tr>\n",
       "    <tr>\n",
       "      <th>75</th>\n",
       "      <td>2075</td>\n",
       "      <td>Kids</td>\n",
       "      <td>Basketball</td>\n",
       "      <td>Air Jordan</td>\n",
       "      <td>L</td>\n",
       "      <td>4.0</td>\n",
       "      <td>4251.740000</td>\n",
       "      <td>0</td>\n",
       "      <td>0.00</td>\n",
       "      <td>2025/07/14</td>\n",
       "      <td>Online</td>\n",
       "      <td>Pune</td>\n",
       "      <td>2345.35</td>\n",
       "    </tr>\n",
       "    <tr>\n",
       "      <th>251</th>\n",
       "      <td>2046</td>\n",
       "      <td>Men</td>\n",
       "      <td>Basketball</td>\n",
       "      <td>Air Jordan</td>\n",
       "      <td>L</td>\n",
       "      <td>2.0</td>\n",
       "      <td>9593.650000</td>\n",
       "      <td>0</td>\n",
       "      <td>0.00</td>\n",
       "      <td>11-01-2025</td>\n",
       "      <td>Online</td>\n",
       "      <td>Hyderabad</td>\n",
       "      <td>1592.50</td>\n",
       "    </tr>\n",
       "  </tbody>\n",
       "</table>\n",
       "</div>"
      ],
      "text/plain": [
       "     Order_ID Gender_Category Product_Line Product_Name Size  Units_Sold  \\\n",
       "17       2017           Women   Basketball   Air Jordan    9         4.0   \n",
       "62       2062             Men   Basketball   Air Jordan    L         2.0   \n",
       "63       2063           Women   Basketball   Air Jordan    M         1.0   \n",
       "75       2075            Kids   Basketball   Air Jordan    L         4.0   \n",
       "251      2046             Men   Basketball   Air Jordan    L         2.0   \n",
       "\n",
       "             MRP Discount_Applied  Revenue  Order_Date Sales_Channel  \\\n",
       "17   6039.863395                0     0.00  17-03-2025        Retail   \n",
       "62   6039.863395                0     0.00  06-06-2025        Online   \n",
       "63   9751.000000             0.16  8190.84  06-09-2024        Retail   \n",
       "75   4251.740000                0     0.00  2025/07/14        Online   \n",
       "251  9593.650000                0     0.00  11-01-2025        Online   \n",
       "\n",
       "        Region   Profit  \n",
       "17       Delhi  1946.24  \n",
       "62   Bangalore  1823.91  \n",
       "63        Pune  1130.31  \n",
       "75        Pune  2345.35  \n",
       "251  Hyderabad  1592.50  "
      ]
     },
     "execution_count": 507,
     "metadata": {},
     "output_type": "execute_result"
    }
   ],
   "source": [
    "air_jordan_data.head()"
   ]
  },
  {
   "cell_type": "code",
   "execution_count": 509,
   "id": "5c070694-2f75-4c20-9507-b1c7704fa86a",
   "metadata": {},
   "outputs": [
    {
     "name": "stdout",
     "output_type": "stream",
     "text": [
      "20\n"
     ]
    }
   ],
   "source": [
    "print(air_jordan_data['MRP'].nunique()) # unique MRP count, after droping all the unsold products"
   ]
  },
  {
   "cell_type": "code",
   "execution_count": 513,
   "id": "179bc836-12ad-470d-aa79-6c133b625d8f",
   "metadata": {},
   "outputs": [
    {
     "data": {
      "text/html": [
       "<div>\n",
       "<style scoped>\n",
       "    .dataframe tbody tr th:only-of-type {\n",
       "        vertical-align: middle;\n",
       "    }\n",
       "\n",
       "    .dataframe tbody tr th {\n",
       "        vertical-align: top;\n",
       "    }\n",
       "\n",
       "    .dataframe thead th {\n",
       "        text-align: right;\n",
       "    }\n",
       "</style>\n",
       "<table border=\"1\" class=\"dataframe\">\n",
       "  <thead>\n",
       "    <tr style=\"text-align: right;\">\n",
       "      <th></th>\n",
       "      <th>Order_ID</th>\n",
       "      <th>Gender_Category</th>\n",
       "      <th>Product_Line</th>\n",
       "      <th>Product_Name</th>\n",
       "      <th>Size</th>\n",
       "      <th>Units_Sold</th>\n",
       "      <th>MRP</th>\n",
       "      <th>Discount_Applied</th>\n",
       "      <th>Revenue</th>\n",
       "      <th>Order_Date</th>\n",
       "      <th>Sales_Channel</th>\n",
       "      <th>Region</th>\n",
       "      <th>Profit</th>\n",
       "    </tr>\n",
       "  </thead>\n",
       "  <tbody>\n",
       "    <tr>\n",
       "      <th>17</th>\n",
       "      <td>2017</td>\n",
       "      <td>Women</td>\n",
       "      <td>Basketball</td>\n",
       "      <td>Air Jordan</td>\n",
       "      <td>9</td>\n",
       "      <td>4.0</td>\n",
       "      <td>6039.863395</td>\n",
       "      <td>0</td>\n",
       "      <td>0.00</td>\n",
       "      <td>17-03-2025</td>\n",
       "      <td>Retail</td>\n",
       "      <td>Delhi</td>\n",
       "      <td>1946.24</td>\n",
       "    </tr>\n",
       "    <tr>\n",
       "      <th>1994</th>\n",
       "      <td>3994</td>\n",
       "      <td>Kids</td>\n",
       "      <td>Basketball</td>\n",
       "      <td>Air Jordan</td>\n",
       "      <td>L</td>\n",
       "      <td>4.0</td>\n",
       "      <td>6039.863395</td>\n",
       "      <td>0</td>\n",
       "      <td>0.00</td>\n",
       "      <td>2025-04-12</td>\n",
       "      <td>Retail</td>\n",
       "      <td>Bangalore</td>\n",
       "      <td>-97.39</td>\n",
       "    </tr>\n",
       "    <tr>\n",
       "      <th>838</th>\n",
       "      <td>2838</td>\n",
       "      <td>Women</td>\n",
       "      <td>Basketball</td>\n",
       "      <td>Air Jordan</td>\n",
       "      <td>XL</td>\n",
       "      <td>4.0</td>\n",
       "      <td>8605.730000</td>\n",
       "      <td>0</td>\n",
       "      <td>0.00</td>\n",
       "      <td>08-01-2025</td>\n",
       "      <td>Retail</td>\n",
       "      <td>Pune</td>\n",
       "      <td>-990.99</td>\n",
       "    </tr>\n",
       "    <tr>\n",
       "      <th>1282</th>\n",
       "      <td>3282</td>\n",
       "      <td>Kids</td>\n",
       "      <td>Basketball</td>\n",
       "      <td>Air Jordan</td>\n",
       "      <td>XL</td>\n",
       "      <td>4.0</td>\n",
       "      <td>6039.863395</td>\n",
       "      <td>0.23</td>\n",
       "      <td>0.00</td>\n",
       "      <td>2024-05-19</td>\n",
       "      <td>Retail</td>\n",
       "      <td>Delhi</td>\n",
       "      <td>-190.17</td>\n",
       "    </tr>\n",
       "    <tr>\n",
       "      <th>824</th>\n",
       "      <td>2824</td>\n",
       "      <td>Men</td>\n",
       "      <td>Basketball</td>\n",
       "      <td>Air Jordan</td>\n",
       "      <td>L</td>\n",
       "      <td>4.0</td>\n",
       "      <td>5123.350000</td>\n",
       "      <td>0</td>\n",
       "      <td>0.00</td>\n",
       "      <td>2024/11/02</td>\n",
       "      <td>Online</td>\n",
       "      <td>Mumbai</td>\n",
       "      <td>1620.37</td>\n",
       "    </tr>\n",
       "    <tr>\n",
       "      <th>2064</th>\n",
       "      <td>4064</td>\n",
       "      <td>Men</td>\n",
       "      <td>Basketball</td>\n",
       "      <td>Air Jordan</td>\n",
       "      <td>L</td>\n",
       "      <td>4.0</td>\n",
       "      <td>6039.863395</td>\n",
       "      <td>0.38</td>\n",
       "      <td>0.00</td>\n",
       "      <td>2024/09/24</td>\n",
       "      <td>Retail</td>\n",
       "      <td>Hyderabad</td>\n",
       "      <td>587.63</td>\n",
       "    </tr>\n",
       "    <tr>\n",
       "      <th>75</th>\n",
       "      <td>2075</td>\n",
       "      <td>Kids</td>\n",
       "      <td>Basketball</td>\n",
       "      <td>Air Jordan</td>\n",
       "      <td>L</td>\n",
       "      <td>4.0</td>\n",
       "      <td>4251.740000</td>\n",
       "      <td>0</td>\n",
       "      <td>0.00</td>\n",
       "      <td>2025/07/14</td>\n",
       "      <td>Online</td>\n",
       "      <td>Pune</td>\n",
       "      <td>2345.35</td>\n",
       "    </tr>\n",
       "    <tr>\n",
       "      <th>2295</th>\n",
       "      <td>4295</td>\n",
       "      <td>Women</td>\n",
       "      <td>Basketball</td>\n",
       "      <td>Air Jordan</td>\n",
       "      <td>10</td>\n",
       "      <td>4.0</td>\n",
       "      <td>4469.120000</td>\n",
       "      <td>0</td>\n",
       "      <td>0.00</td>\n",
       "      <td>15-03-2025</td>\n",
       "      <td>Retail</td>\n",
       "      <td>Mumbai</td>\n",
       "      <td>-1033.41</td>\n",
       "    </tr>\n",
       "    <tr>\n",
       "      <th>2133</th>\n",
       "      <td>4133</td>\n",
       "      <td>Men</td>\n",
       "      <td>Basketball</td>\n",
       "      <td>Air Jordan</td>\n",
       "      <td>L</td>\n",
       "      <td>3.0</td>\n",
       "      <td>4105.060000</td>\n",
       "      <td>0</td>\n",
       "      <td>0.00</td>\n",
       "      <td>09-11-2024</td>\n",
       "      <td>Online</td>\n",
       "      <td>Mumbai</td>\n",
       "      <td>1015.38</td>\n",
       "    </tr>\n",
       "    <tr>\n",
       "      <th>2484</th>\n",
       "      <td>4484</td>\n",
       "      <td>Men</td>\n",
       "      <td>Basketball</td>\n",
       "      <td>Air Jordan</td>\n",
       "      <td>11</td>\n",
       "      <td>3.0</td>\n",
       "      <td>5981.920000</td>\n",
       "      <td>0.8</td>\n",
       "      <td>3589.15</td>\n",
       "      <td>2024/12/12</td>\n",
       "      <td>Retail</td>\n",
       "      <td>Hyderabad</td>\n",
       "      <td>-751.05</td>\n",
       "    </tr>\n",
       "    <tr>\n",
       "      <th>300</th>\n",
       "      <td>2300</td>\n",
       "      <td>Men</td>\n",
       "      <td>Basketball</td>\n",
       "      <td>Air Jordan</td>\n",
       "      <td>L</td>\n",
       "      <td>3.0</td>\n",
       "      <td>6331.640000</td>\n",
       "      <td>0.78</td>\n",
       "      <td>4178.88</td>\n",
       "      <td>17-08-2024</td>\n",
       "      <td>Retail</td>\n",
       "      <td>Delhi</td>\n",
       "      <td>3380.28</td>\n",
       "    </tr>\n",
       "    <tr>\n",
       "      <th>293</th>\n",
       "      <td>2293</td>\n",
       "      <td>Women</td>\n",
       "      <td>Basketball</td>\n",
       "      <td>Air Jordan</td>\n",
       "      <td>XL</td>\n",
       "      <td>3.0</td>\n",
       "      <td>6039.863395</td>\n",
       "      <td>0</td>\n",
       "      <td>0.00</td>\n",
       "      <td>13-05-2025</td>\n",
       "      <td>Retail</td>\n",
       "      <td>Mumbai</td>\n",
       "      <td>2525.87</td>\n",
       "    </tr>\n",
       "    <tr>\n",
       "      <th>1343</th>\n",
       "      <td>3343</td>\n",
       "      <td>Kids</td>\n",
       "      <td>Basketball</td>\n",
       "      <td>Air Jordan</td>\n",
       "      <td>L</td>\n",
       "      <td>3.0</td>\n",
       "      <td>9405.770000</td>\n",
       "      <td>0</td>\n",
       "      <td>0.00</td>\n",
       "      <td>12-11-2024</td>\n",
       "      <td>Retail</td>\n",
       "      <td>Hyderabad</td>\n",
       "      <td>1688.78</td>\n",
       "    </tr>\n",
       "    <tr>\n",
       "      <th>1379</th>\n",
       "      <td>3379</td>\n",
       "      <td>Men</td>\n",
       "      <td>Basketball</td>\n",
       "      <td>Air Jordan</td>\n",
       "      <td>L</td>\n",
       "      <td>2.0</td>\n",
       "      <td>5000.490000</td>\n",
       "      <td>0.86</td>\n",
       "      <td>1400.14</td>\n",
       "      <td>2024-10-23</td>\n",
       "      <td>Retail</td>\n",
       "      <td>Pune</td>\n",
       "      <td>3000.14</td>\n",
       "    </tr>\n",
       "    <tr>\n",
       "      <th>1985</th>\n",
       "      <td>2048</td>\n",
       "      <td>Kids</td>\n",
       "      <td>Basketball</td>\n",
       "      <td>Air Jordan</td>\n",
       "      <td>XL</td>\n",
       "      <td>2.0</td>\n",
       "      <td>8918.660000</td>\n",
       "      <td>1.19</td>\n",
       "      <td>-3389.09</td>\n",
       "      <td>2024-02-14</td>\n",
       "      <td>Retail</td>\n",
       "      <td>Delhi</td>\n",
       "      <td>1889.03</td>\n",
       "    </tr>\n",
       "    <tr>\n",
       "      <th>1790</th>\n",
       "      <td>3790</td>\n",
       "      <td>Men</td>\n",
       "      <td>Basketball</td>\n",
       "      <td>Air Jordan</td>\n",
       "      <td>L</td>\n",
       "      <td>2.0</td>\n",
       "      <td>6039.863395</td>\n",
       "      <td>0</td>\n",
       "      <td>0.00</td>\n",
       "      <td>13-07-2025</td>\n",
       "      <td>Retail</td>\n",
       "      <td>Mumbai</td>\n",
       "      <td>-70.36</td>\n",
       "    </tr>\n",
       "    <tr>\n",
       "      <th>652</th>\n",
       "      <td>2652</td>\n",
       "      <td>Women</td>\n",
       "      <td>Basketball</td>\n",
       "      <td>Air Jordan</td>\n",
       "      <td>L</td>\n",
       "      <td>2.0</td>\n",
       "      <td>6039.863395</td>\n",
       "      <td>1.08</td>\n",
       "      <td>0.00</td>\n",
       "      <td>10-04-2025</td>\n",
       "      <td>Online</td>\n",
       "      <td>Delhi</td>\n",
       "      <td>-240.80</td>\n",
       "    </tr>\n",
       "    <tr>\n",
       "      <th>1477</th>\n",
       "      <td>3477</td>\n",
       "      <td>Men</td>\n",
       "      <td>Basketball</td>\n",
       "      <td>Air Jordan</td>\n",
       "      <td>M</td>\n",
       "      <td>2.0</td>\n",
       "      <td>4135.260000</td>\n",
       "      <td>0</td>\n",
       "      <td>0.00</td>\n",
       "      <td>25-04-2025</td>\n",
       "      <td>Online</td>\n",
       "      <td>Delhi</td>\n",
       "      <td>1691.28</td>\n",
       "    </tr>\n",
       "    <tr>\n",
       "      <th>62</th>\n",
       "      <td>2062</td>\n",
       "      <td>Men</td>\n",
       "      <td>Basketball</td>\n",
       "      <td>Air Jordan</td>\n",
       "      <td>L</td>\n",
       "      <td>2.0</td>\n",
       "      <td>6039.863395</td>\n",
       "      <td>0</td>\n",
       "      <td>0.00</td>\n",
       "      <td>06-06-2025</td>\n",
       "      <td>Online</td>\n",
       "      <td>Bangalore</td>\n",
       "      <td>1823.91</td>\n",
       "    </tr>\n",
       "    <tr>\n",
       "      <th>251</th>\n",
       "      <td>2046</td>\n",
       "      <td>Men</td>\n",
       "      <td>Basketball</td>\n",
       "      <td>Air Jordan</td>\n",
       "      <td>L</td>\n",
       "      <td>2.0</td>\n",
       "      <td>9593.650000</td>\n",
       "      <td>0</td>\n",
       "      <td>0.00</td>\n",
       "      <td>11-01-2025</td>\n",
       "      <td>Online</td>\n",
       "      <td>Hyderabad</td>\n",
       "      <td>1592.50</td>\n",
       "    </tr>\n",
       "    <tr>\n",
       "      <th>2363</th>\n",
       "      <td>4363</td>\n",
       "      <td>Kids</td>\n",
       "      <td>Basketball</td>\n",
       "      <td>Air Jordan</td>\n",
       "      <td>L</td>\n",
       "      <td>2.0</td>\n",
       "      <td>6039.863395</td>\n",
       "      <td>0.75</td>\n",
       "      <td>0.00</td>\n",
       "      <td>24-11-2024</td>\n",
       "      <td>Online</td>\n",
       "      <td>Delhi</td>\n",
       "      <td>-1071.83</td>\n",
       "    </tr>\n",
       "    <tr>\n",
       "      <th>2448</th>\n",
       "      <td>2030</td>\n",
       "      <td>Women</td>\n",
       "      <td>Basketball</td>\n",
       "      <td>Air Jordan</td>\n",
       "      <td>11</td>\n",
       "      <td>2.0</td>\n",
       "      <td>6039.863395</td>\n",
       "      <td>0</td>\n",
       "      <td>0.00</td>\n",
       "      <td>10-06-2025</td>\n",
       "      <td>Retail</td>\n",
       "      <td>Mumbai</td>\n",
       "      <td>2717.93</td>\n",
       "    </tr>\n",
       "    <tr>\n",
       "      <th>569</th>\n",
       "      <td>2569</td>\n",
       "      <td>Women</td>\n",
       "      <td>Basketball</td>\n",
       "      <td>Air Jordan</td>\n",
       "      <td>L</td>\n",
       "      <td>2.0</td>\n",
       "      <td>9605.110000</td>\n",
       "      <td>0.88</td>\n",
       "      <td>2305.23</td>\n",
       "      <td>24-08-2024</td>\n",
       "      <td>Online</td>\n",
       "      <td>Hyderabad</td>\n",
       "      <td>128.89</td>\n",
       "    </tr>\n",
       "    <tr>\n",
       "      <th>1300</th>\n",
       "      <td>3300</td>\n",
       "      <td>Women</td>\n",
       "      <td>Basketball</td>\n",
       "      <td>Air Jordan</td>\n",
       "      <td>L</td>\n",
       "      <td>2.0</td>\n",
       "      <td>6039.863395</td>\n",
       "      <td>0</td>\n",
       "      <td>0.00</td>\n",
       "      <td>18-12-2024</td>\n",
       "      <td>Retail</td>\n",
       "      <td>Bangalore</td>\n",
       "      <td>3436.23</td>\n",
       "    </tr>\n",
       "    <tr>\n",
       "      <th>63</th>\n",
       "      <td>2063</td>\n",
       "      <td>Women</td>\n",
       "      <td>Basketball</td>\n",
       "      <td>Air Jordan</td>\n",
       "      <td>M</td>\n",
       "      <td>1.0</td>\n",
       "      <td>9751.000000</td>\n",
       "      <td>0.16</td>\n",
       "      <td>8190.84</td>\n",
       "      <td>06-09-2024</td>\n",
       "      <td>Retail</td>\n",
       "      <td>Pune</td>\n",
       "      <td>1130.31</td>\n",
       "    </tr>\n",
       "    <tr>\n",
       "      <th>2059</th>\n",
       "      <td>4059</td>\n",
       "      <td>Kids</td>\n",
       "      <td>Basketball</td>\n",
       "      <td>Air Jordan</td>\n",
       "      <td>L</td>\n",
       "      <td>1.0</td>\n",
       "      <td>9700.410000</td>\n",
       "      <td>1.24</td>\n",
       "      <td>-2328.10</td>\n",
       "      <td>03-02-2025</td>\n",
       "      <td>Retail</td>\n",
       "      <td>Delhi</td>\n",
       "      <td>1000.57</td>\n",
       "    </tr>\n",
       "    <tr>\n",
       "      <th>651</th>\n",
       "      <td>2651</td>\n",
       "      <td>Kids</td>\n",
       "      <td>Basketball</td>\n",
       "      <td>Air Jordan</td>\n",
       "      <td>L</td>\n",
       "      <td>1.0</td>\n",
       "      <td>6039.863395</td>\n",
       "      <td>0</td>\n",
       "      <td>0.00</td>\n",
       "      <td>2024-10-27</td>\n",
       "      <td>Online</td>\n",
       "      <td>Kolkata</td>\n",
       "      <td>-819.33</td>\n",
       "    </tr>\n",
       "    <tr>\n",
       "      <th>1573</th>\n",
       "      <td>3573</td>\n",
       "      <td>Men</td>\n",
       "      <td>Basketball</td>\n",
       "      <td>Air Jordan</td>\n",
       "      <td>L</td>\n",
       "      <td>1.0</td>\n",
       "      <td>6830.980000</td>\n",
       "      <td>0.39</td>\n",
       "      <td>4166.90</td>\n",
       "      <td>2025-03-18</td>\n",
       "      <td>Retail</td>\n",
       "      <td>Mumbai</td>\n",
       "      <td>-175.76</td>\n",
       "    </tr>\n",
       "    <tr>\n",
       "      <th>1428</th>\n",
       "      <td>3428</td>\n",
       "      <td>Women</td>\n",
       "      <td>Basketball</td>\n",
       "      <td>Air Jordan</td>\n",
       "      <td>6</td>\n",
       "      <td>1.0</td>\n",
       "      <td>2825.860000</td>\n",
       "      <td>0.23</td>\n",
       "      <td>2175.91</td>\n",
       "      <td>03-12-2024</td>\n",
       "      <td>Online</td>\n",
       "      <td>Bangalore</td>\n",
       "      <td>625.30</td>\n",
       "    </tr>\n",
       "    <tr>\n",
       "      <th>306</th>\n",
       "      <td>2306</td>\n",
       "      <td>Kids</td>\n",
       "      <td>Basketball</td>\n",
       "      <td>Air Jordan</td>\n",
       "      <td>L</td>\n",
       "      <td>1.0</td>\n",
       "      <td>8267.560000</td>\n",
       "      <td>0.29</td>\n",
       "      <td>5869.97</td>\n",
       "      <td>2024/11/10</td>\n",
       "      <td>Retail</td>\n",
       "      <td>Bangalore</td>\n",
       "      <td>476.25</td>\n",
       "    </tr>\n",
       "    <tr>\n",
       "      <th>497</th>\n",
       "      <td>2497</td>\n",
       "      <td>Kids</td>\n",
       "      <td>Basketball</td>\n",
       "      <td>Air Jordan</td>\n",
       "      <td>XL</td>\n",
       "      <td>1.0</td>\n",
       "      <td>6039.863395</td>\n",
       "      <td>0</td>\n",
       "      <td>0.00</td>\n",
       "      <td>2023-11-29</td>\n",
       "      <td>Online</td>\n",
       "      <td>Mumbai</td>\n",
       "      <td>2592.98</td>\n",
       "    </tr>\n",
       "    <tr>\n",
       "      <th>1091</th>\n",
       "      <td>3091</td>\n",
       "      <td>Women</td>\n",
       "      <td>Basketball</td>\n",
       "      <td>Air Jordan</td>\n",
       "      <td>L</td>\n",
       "      <td>1.0</td>\n",
       "      <td>8666.840000</td>\n",
       "      <td>0.3</td>\n",
       "      <td>6066.79</td>\n",
       "      <td>13-02-2025</td>\n",
       "      <td>Online</td>\n",
       "      <td>Hyderabad</td>\n",
       "      <td>204.77</td>\n",
       "    </tr>\n",
       "    <tr>\n",
       "      <th>514</th>\n",
       "      <td>2514</td>\n",
       "      <td>Kids</td>\n",
       "      <td>Basketball</td>\n",
       "      <td>Air Jordan</td>\n",
       "      <td>M</td>\n",
       "      <td>1.0</td>\n",
       "      <td>6039.863395</td>\n",
       "      <td>0</td>\n",
       "      <td>0.00</td>\n",
       "      <td>2025/05/26</td>\n",
       "      <td>Online</td>\n",
       "      <td>Bangalore</td>\n",
       "      <td>1790.41</td>\n",
       "    </tr>\n",
       "    <tr>\n",
       "      <th>1557</th>\n",
       "      <td>3557</td>\n",
       "      <td>Kids</td>\n",
       "      <td>Basketball</td>\n",
       "      <td>Air Jordan</td>\n",
       "      <td>L</td>\n",
       "      <td>1.0</td>\n",
       "      <td>6039.863395</td>\n",
       "      <td>0.66</td>\n",
       "      <td>0.00</td>\n",
       "      <td>2024/08/09</td>\n",
       "      <td>Retail</td>\n",
       "      <td>Hyderabad</td>\n",
       "      <td>-884.81</td>\n",
       "    </tr>\n",
       "  </tbody>\n",
       "</table>\n",
       "</div>"
      ],
      "text/plain": [
       "      Order_ID Gender_Category Product_Line Product_Name Size  Units_Sold  \\\n",
       "17        2017           Women   Basketball   Air Jordan    9         4.0   \n",
       "1994      3994            Kids   Basketball   Air Jordan    L         4.0   \n",
       "838       2838           Women   Basketball   Air Jordan   XL         4.0   \n",
       "1282      3282            Kids   Basketball   Air Jordan   XL         4.0   \n",
       "824       2824             Men   Basketball   Air Jordan    L         4.0   \n",
       "2064      4064             Men   Basketball   Air Jordan    L         4.0   \n",
       "75        2075            Kids   Basketball   Air Jordan    L         4.0   \n",
       "2295      4295           Women   Basketball   Air Jordan   10         4.0   \n",
       "2133      4133             Men   Basketball   Air Jordan    L         3.0   \n",
       "2484      4484             Men   Basketball   Air Jordan   11         3.0   \n",
       "300       2300             Men   Basketball   Air Jordan    L         3.0   \n",
       "293       2293           Women   Basketball   Air Jordan   XL         3.0   \n",
       "1343      3343            Kids   Basketball   Air Jordan    L         3.0   \n",
       "1379      3379             Men   Basketball   Air Jordan    L         2.0   \n",
       "1985      2048            Kids   Basketball   Air Jordan   XL         2.0   \n",
       "1790      3790             Men   Basketball   Air Jordan    L         2.0   \n",
       "652       2652           Women   Basketball   Air Jordan    L         2.0   \n",
       "1477      3477             Men   Basketball   Air Jordan    M         2.0   \n",
       "62        2062             Men   Basketball   Air Jordan    L         2.0   \n",
       "251       2046             Men   Basketball   Air Jordan    L         2.0   \n",
       "2363      4363            Kids   Basketball   Air Jordan    L         2.0   \n",
       "2448      2030           Women   Basketball   Air Jordan   11         2.0   \n",
       "569       2569           Women   Basketball   Air Jordan    L         2.0   \n",
       "1300      3300           Women   Basketball   Air Jordan    L         2.0   \n",
       "63        2063           Women   Basketball   Air Jordan    M         1.0   \n",
       "2059      4059            Kids   Basketball   Air Jordan    L         1.0   \n",
       "651       2651            Kids   Basketball   Air Jordan    L         1.0   \n",
       "1573      3573             Men   Basketball   Air Jordan    L         1.0   \n",
       "1428      3428           Women   Basketball   Air Jordan    6         1.0   \n",
       "306       2306            Kids   Basketball   Air Jordan    L         1.0   \n",
       "497       2497            Kids   Basketball   Air Jordan   XL         1.0   \n",
       "1091      3091           Women   Basketball   Air Jordan    L         1.0   \n",
       "514       2514            Kids   Basketball   Air Jordan    M         1.0   \n",
       "1557      3557            Kids   Basketball   Air Jordan    L         1.0   \n",
       "\n",
       "              MRP Discount_Applied  Revenue  Order_Date Sales_Channel  \\\n",
       "17    6039.863395                0     0.00  17-03-2025        Retail   \n",
       "1994  6039.863395                0     0.00  2025-04-12        Retail   \n",
       "838   8605.730000                0     0.00  08-01-2025        Retail   \n",
       "1282  6039.863395             0.23     0.00  2024-05-19        Retail   \n",
       "824   5123.350000                0     0.00  2024/11/02        Online   \n",
       "2064  6039.863395             0.38     0.00  2024/09/24        Retail   \n",
       "75    4251.740000                0     0.00  2025/07/14        Online   \n",
       "2295  4469.120000                0     0.00  15-03-2025        Retail   \n",
       "2133  4105.060000                0     0.00  09-11-2024        Online   \n",
       "2484  5981.920000              0.8  3589.15  2024/12/12        Retail   \n",
       "300   6331.640000             0.78  4178.88  17-08-2024        Retail   \n",
       "293   6039.863395                0     0.00  13-05-2025        Retail   \n",
       "1343  9405.770000                0     0.00  12-11-2024        Retail   \n",
       "1379  5000.490000             0.86  1400.14  2024-10-23        Retail   \n",
       "1985  8918.660000             1.19 -3389.09  2024-02-14        Retail   \n",
       "1790  6039.863395                0     0.00  13-07-2025        Retail   \n",
       "652   6039.863395             1.08     0.00  10-04-2025        Online   \n",
       "1477  4135.260000                0     0.00  25-04-2025        Online   \n",
       "62    6039.863395                0     0.00  06-06-2025        Online   \n",
       "251   9593.650000                0     0.00  11-01-2025        Online   \n",
       "2363  6039.863395             0.75     0.00  24-11-2024        Online   \n",
       "2448  6039.863395                0     0.00  10-06-2025        Retail   \n",
       "569   9605.110000             0.88  2305.23  24-08-2024        Online   \n",
       "1300  6039.863395                0     0.00  18-12-2024        Retail   \n",
       "63    9751.000000             0.16  8190.84  06-09-2024        Retail   \n",
       "2059  9700.410000             1.24 -2328.10  03-02-2025        Retail   \n",
       "651   6039.863395                0     0.00  2024-10-27        Online   \n",
       "1573  6830.980000             0.39  4166.90  2025-03-18        Retail   \n",
       "1428  2825.860000             0.23  2175.91  03-12-2024        Online   \n",
       "306   8267.560000             0.29  5869.97  2024/11/10        Retail   \n",
       "497   6039.863395                0     0.00  2023-11-29        Online   \n",
       "1091  8666.840000              0.3  6066.79  13-02-2025        Online   \n",
       "514   6039.863395                0     0.00  2025/05/26        Online   \n",
       "1557  6039.863395             0.66     0.00  2024/08/09        Retail   \n",
       "\n",
       "         Region   Profit  \n",
       "17        Delhi  1946.24  \n",
       "1994  Bangalore   -97.39  \n",
       "838        Pune  -990.99  \n",
       "1282      Delhi  -190.17  \n",
       "824      Mumbai  1620.37  \n",
       "2064  Hyderabad   587.63  \n",
       "75         Pune  2345.35  \n",
       "2295     Mumbai -1033.41  \n",
       "2133     Mumbai  1015.38  \n",
       "2484  Hyderabad  -751.05  \n",
       "300       Delhi  3380.28  \n",
       "293      Mumbai  2525.87  \n",
       "1343  Hyderabad  1688.78  \n",
       "1379       Pune  3000.14  \n",
       "1985      Delhi  1889.03  \n",
       "1790     Mumbai   -70.36  \n",
       "652       Delhi  -240.80  \n",
       "1477      Delhi  1691.28  \n",
       "62    Bangalore  1823.91  \n",
       "251   Hyderabad  1592.50  \n",
       "2363      Delhi -1071.83  \n",
       "2448     Mumbai  2717.93  \n",
       "569   Hyderabad   128.89  \n",
       "1300  Bangalore  3436.23  \n",
       "63         Pune  1130.31  \n",
       "2059      Delhi  1000.57  \n",
       "651     Kolkata  -819.33  \n",
       "1573     Mumbai  -175.76  \n",
       "1428  Bangalore   625.30  \n",
       "306   Bangalore   476.25  \n",
       "497      Mumbai  2592.98  \n",
       "1091  Hyderabad   204.77  \n",
       "514   Bangalore  1790.41  \n",
       "1557  Hyderabad  -884.81  "
      ]
     },
     "execution_count": 513,
     "metadata": {},
     "output_type": "execute_result"
    }
   ],
   "source": [
    "air_jordan_data = air_jordan_data.sort_values(by='Units_Sold', ascending=False) # sort by unit sold along with its mrp\n",
    "air_jordan_data"
   ]
  },
  {
   "cell_type": "code",
   "execution_count": null,
   "id": "39affb03-d1b8-42ac-b12c-332c79c3539e",
   "metadata": {},
   "outputs": [],
   "source": []
  }
 ],
 "metadata": {
  "kernelspec": {
   "display_name": "Python 3 (ipykernel)",
   "language": "python",
   "name": "python3"
  },
  "language_info": {
   "codemirror_mode": {
    "name": "ipython",
    "version": 3
   },
   "file_extension": ".py",
   "mimetype": "text/x-python",
   "name": "python",
   "nbconvert_exporter": "python",
   "pygments_lexer": "ipython3",
   "version": "3.12.4"
  }
 },
 "nbformat": 4,
 "nbformat_minor": 5
}
