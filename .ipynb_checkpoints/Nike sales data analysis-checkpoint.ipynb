{
 "cells": [
  {
   "cell_type": "markdown",
   "id": "fc350988-ebfa-4daa-a13e-3cd1bb6fbe44",
   "metadata": {},
   "source": [
    "### Nike sales data analysis"
   ]
  },
  {
   "cell_type": "code",
   "execution_count": 4,
   "id": "ef69ef93-966f-4132-9685-1ebfe1c934dd",
   "metadata": {},
   "outputs": [
    {
     "name": "stdout",
     "output_type": "stream",
     "text": [
      "   Order_ID Gender_Category Product_Line    Product_Name Size  Units_Sold  \\\n",
      "0      2000            Kids     Training     SuperRep Go    M         NaN   \n",
      "1      2001           Women       Soccer   Tiempo Legend    M         3.0   \n",
      "2      2002           Women       Soccer     Premier III    M         4.0   \n",
      "3      2003            Kids    Lifestyle      Blazer Mid    L         NaN   \n",
      "4      2004            Kids      Running  React Infinity   XL         NaN   \n",
      "\n",
      "       MRP  Discount_Applied  Revenue  Order_Date Sales_Channel     Region  \\\n",
      "0      NaN              0.47      0.0  2024-03-09        Online  bengaluru   \n",
      "1  4957.93               NaN      0.0  2024-07-09        Retail        Hyd   \n",
      "2      NaN               NaN      0.0         NaN        Retail     Mumbai   \n",
      "3  9673.57               NaN      0.0  04-10-2024        Online       Pune   \n",
      "4      NaN               NaN      0.0  2024/09/12        Retail      Delhi   \n",
      "\n",
      "    Profit  \n",
      "0  -770.45  \n",
      "1  -112.53  \n",
      "2  3337.34  \n",
      "3  3376.85  \n",
      "4   187.89  \n"
     ]
    }
   ],
   "source": [
    "import pandas as pd\n",
    "df =pd.read_csv(r\"D:\\Information Technology\\nike sales data\\Nike_Sales_Uncleaned.csv\")\n",
    "print(df.head())"
   ]
  },
  {
   "cell_type": "code",
   "execution_count": null,
   "id": "4488f296-0a15-4352-81de-9b6c1726366e",
   "metadata": {},
   "outputs": [],
   "source": []
  }
 ],
 "metadata": {
  "kernelspec": {
   "display_name": "Python 3 (ipykernel)",
   "language": "python",
   "name": "python3"
  },
  "language_info": {
   "codemirror_mode": {
    "name": "ipython",
    "version": 3
   },
   "file_extension": ".py",
   "mimetype": "text/x-python",
   "name": "python",
   "nbconvert_exporter": "python",
   "pygments_lexer": "ipython3",
   "version": "3.12.4"
  }
 },
 "nbformat": 4,
 "nbformat_minor": 5
}
