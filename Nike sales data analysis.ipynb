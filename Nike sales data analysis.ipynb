{
 "cells": [
  {
   "cell_type": "markdown",
   "id": "fc350988-ebfa-4daa-a13e-3cd1bb6fbe44",
   "metadata": {},
   "source": [
    "### Nike sales data analysis"
   ]
  },
  {
   "cell_type": "code",
   "execution_count": 4,
   "id": "ef69ef93-966f-4132-9685-1ebfe1c934dd",
   "metadata": {},
   "outputs": [
    {
     "name": "stdout",
     "output_type": "stream",
     "text": [
      "   Order_ID Gender_Category Product_Line    Product_Name Size  Units_Sold  \\\n",
      "0      2000            Kids     Training     SuperRep Go    M         NaN   \n",
      "1      2001           Women       Soccer   Tiempo Legend    M         3.0   \n",
      "2      2002           Women       Soccer     Premier III    M         4.0   \n",
      "3      2003            Kids    Lifestyle      Blazer Mid    L         NaN   \n",
      "4      2004            Kids      Running  React Infinity   XL         NaN   \n",
      "\n",
      "       MRP  Discount_Applied  Revenue  Order_Date Sales_Channel     Region  \\\n",
      "0      NaN              0.47      0.0  2024-03-09        Online  bengaluru   \n",
      "1  4957.93               NaN      0.0  2024-07-09        Retail        Hyd   \n",
      "2      NaN               NaN      0.0         NaN        Retail     Mumbai   \n",
      "3  9673.57               NaN      0.0  04-10-2024        Online       Pune   \n",
      "4      NaN               NaN      0.0  2024/09/12        Retail      Delhi   \n",
      "\n",
      "    Profit  \n",
      "0  -770.45  \n",
      "1  -112.53  \n",
      "2  3337.34  \n",
      "3  3376.85  \n",
      "4   187.89  \n"
     ]
    }
   ],
   "source": [
    "import pandas as pd\n",
    "df =pd.read_csv(r\"D:\\Information Technology\\nike sales data\\Nike_Sales_Uncleaned.csv\")\n",
    "print(df.head())"
   ]
  },
  {
   "cell_type": "code",
   "execution_count": 8,
   "id": "4488f296-0a15-4352-81de-9b6c1726366e",
   "metadata": {},
   "outputs": [
    {
     "name": "stdout",
     "output_type": "stream",
     "text": [
      "          Order_ID   Units_Sold          MRP  Discount_Applied       Revenue  \\\n",
      "count  2500.000000  1265.000000  1246.000000        832.000000   2500.000000   \n",
      "mean   3194.352400     1.482213  6039.863395          0.631022    274.873716   \n",
      "std     749.972638     1.696947  2315.746826          0.365500   2023.773550   \n",
      "min    2000.000000    -1.000000  2006.630000          0.000000  -7561.590000   \n",
      "25%    2534.750000     0.000000  4038.902500          0.320000      0.000000   \n",
      "50%    3192.500000     2.000000  6110.030000          0.615000      0.000000   \n",
      "75%    3841.250000     3.000000  8022.187500          0.962500      0.000000   \n",
      "max    4499.000000     4.000000  9996.220000          1.250000  37169.350000   \n",
      "\n",
      "            Profit  \n",
      "count  2500.000000  \n",
      "mean   1376.012848  \n",
      "std    1478.671013  \n",
      "min   -1199.450000  \n",
      "25%      93.532500  \n",
      "50%    1371.385000  \n",
      "75%    2660.645000  \n",
      "max    3999.210000  \n"
     ]
    }
   ],
   "source": [
    "print(df.describe())"
   ]
  },
  {
   "cell_type": "code",
   "execution_count": 10,
   "id": "fa80db36-f6e6-4661-bbd3-1430f0a2e65d",
   "metadata": {},
   "outputs": [
    {
     "name": "stdout",
     "output_type": "stream",
     "text": [
      "<class 'pandas.core.frame.DataFrame'>\n",
      "RangeIndex: 2500 entries, 0 to 2499\n",
      "Data columns (total 13 columns):\n",
      " #   Column            Non-Null Count  Dtype  \n",
      "---  ------            --------------  -----  \n",
      " 0   Order_ID          2500 non-null   int64  \n",
      " 1   Gender_Category   2500 non-null   object \n",
      " 2   Product_Line      2500 non-null   object \n",
      " 3   Product_Name      2500 non-null   object \n",
      " 4   Size              1990 non-null   object \n",
      " 5   Units_Sold        1265 non-null   float64\n",
      " 6   MRP               1246 non-null   float64\n",
      " 7   Discount_Applied  832 non-null    float64\n",
      " 8   Revenue           2500 non-null   float64\n",
      " 9   Order_Date        1884 non-null   object \n",
      " 10  Sales_Channel     2500 non-null   object \n",
      " 11  Region            2500 non-null   object \n",
      " 12  Profit            2500 non-null   float64\n",
      "dtypes: float64(5), int64(1), object(7)\n",
      "memory usage: 254.0+ KB\n"
     ]
    }
   ],
   "source": [
    "df.info()"
   ]
  },
  {
   "cell_type": "code",
   "execution_count": 12,
   "id": "56d4f2b7-2d54-4ed5-b8c8-510cc83bdd85",
   "metadata": {},
   "outputs": [
    {
     "data": {
      "text/plain": [
       "Order_ID               0\n",
       "Gender_Category        0\n",
       "Product_Line           0\n",
       "Product_Name           0\n",
       "Size                 510\n",
       "Units_Sold          1235\n",
       "MRP                 1254\n",
       "Discount_Applied    1668\n",
       "Revenue                0\n",
       "Order_Date           616\n",
       "Sales_Channel          0\n",
       "Region                 0\n",
       "Profit                 0\n",
       "dtype: int64"
      ]
     },
     "execution_count": 12,
     "metadata": {},
     "output_type": "execute_result"
    }
   ],
   "source": [
    "df.isnull().sum()"
   ]
  },
  {
   "cell_type": "code",
   "execution_count": null,
   "id": "3ca1576a-aaf6-4acf-878b-5cd40b256399",
   "metadata": {},
   "outputs": [],
   "source": []
  }
 ],
 "metadata": {
  "kernelspec": {
   "display_name": "Python 3 (ipykernel)",
   "language": "python",
   "name": "python3"
  },
  "language_info": {
   "codemirror_mode": {
    "name": "ipython",
    "version": 3
   },
   "file_extension": ".py",
   "mimetype": "text/x-python",
   "name": "python",
   "nbconvert_exporter": "python",
   "pygments_lexer": "ipython3",
   "version": "3.12.4"
  }
 },
 "nbformat": 4,
 "nbformat_minor": 5
}
