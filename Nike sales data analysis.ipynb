{
 "cells": [
  {
   "cell_type": "markdown",
   "id": "fc350988-ebfa-4daa-a13e-3cd1bb6fbe44",
   "metadata": {},
   "source": [
    "### Nike sales data analysis"
   ]
  },
  {
   "cell_type": "code",
   "execution_count": 377,
   "id": "ef69ef93-966f-4132-9685-1ebfe1c934dd",
   "metadata": {},
   "outputs": [
    {
     "name": "stdout",
     "output_type": "stream",
     "text": [
      "   Order_ID Gender_Category Product_Line    Product_Name Size  Units_Sold  \\\n",
      "0      2000            Kids     Training     SuperRep Go    M         NaN   \n",
      "1      2001           Women       Soccer   Tiempo Legend    M         3.0   \n",
      "2      2002           Women       Soccer     Premier III    M         4.0   \n",
      "3      2003            Kids    Lifestyle      Blazer Mid    L         NaN   \n",
      "4      2004            Kids      Running  React Infinity   XL         NaN   \n",
      "\n",
      "       MRP  Discount_Applied  Revenue  Order_Date Sales_Channel     Region  \\\n",
      "0      NaN              0.47      0.0  2024-03-09        Online  bengaluru   \n",
      "1  4957.93               NaN      0.0  2024-07-09        Retail        Hyd   \n",
      "2      NaN               NaN      0.0         NaN        Retail     Mumbai   \n",
      "3  9673.57               NaN      0.0  04-10-2024        Online       Pune   \n",
      "4      NaN               NaN      0.0  2024/09/12        Retail      Delhi   \n",
      "\n",
      "    Profit  \n",
      "0  -770.45  \n",
      "1  -112.53  \n",
      "2  3337.34  \n",
      "3  3376.85  \n",
      "4   187.89  \n"
     ]
    }
   ],
   "source": [
    "import pandas as pd\n",
    "import matplotlib.pyplot as plt\n",
    "df =pd.read_csv(r\"D:\\Information Technology\\nike sales data\\Nike_Sales_Uncleaned.csv\")\n",
    "print(df.head())"
   ]
  },
  {
   "cell_type": "code",
   "execution_count": 379,
   "id": "4488f296-0a15-4352-81de-9b6c1726366e",
   "metadata": {},
   "outputs": [
    {
     "name": "stdout",
     "output_type": "stream",
     "text": [
      "          Order_ID   Units_Sold          MRP  Discount_Applied       Revenue  \\\n",
      "count  2500.000000  1265.000000  1246.000000        832.000000   2500.000000   \n",
      "mean   3194.352400     1.482213  6039.863395          0.631022    274.873716   \n",
      "std     749.972638     1.696947  2315.746826          0.365500   2023.773550   \n",
      "min    2000.000000    -1.000000  2006.630000          0.000000  -7561.590000   \n",
      "25%    2534.750000     0.000000  4038.902500          0.320000      0.000000   \n",
      "50%    3192.500000     2.000000  6110.030000          0.615000      0.000000   \n",
      "75%    3841.250000     3.000000  8022.187500          0.962500      0.000000   \n",
      "max    4499.000000     4.000000  9996.220000          1.250000  37169.350000   \n",
      "\n",
      "            Profit  \n",
      "count  2500.000000  \n",
      "mean   1376.012848  \n",
      "std    1478.671013  \n",
      "min   -1199.450000  \n",
      "25%      93.532500  \n",
      "50%    1371.385000  \n",
      "75%    2660.645000  \n",
      "max    3999.210000  \n"
     ]
    }
   ],
   "source": [
    "print(df.describe())"
   ]
  },
  {
   "cell_type": "code",
   "execution_count": 381,
   "id": "fa80db36-f6e6-4661-bbd3-1430f0a2e65d",
   "metadata": {},
   "outputs": [
    {
     "name": "stdout",
     "output_type": "stream",
     "text": [
      "<class 'pandas.core.frame.DataFrame'>\n",
      "RangeIndex: 2500 entries, 0 to 2499\n",
      "Data columns (total 13 columns):\n",
      " #   Column            Non-Null Count  Dtype  \n",
      "---  ------            --------------  -----  \n",
      " 0   Order_ID          2500 non-null   int64  \n",
      " 1   Gender_Category   2500 non-null   object \n",
      " 2   Product_Line      2500 non-null   object \n",
      " 3   Product_Name      2500 non-null   object \n",
      " 4   Size              1990 non-null   object \n",
      " 5   Units_Sold        1265 non-null   float64\n",
      " 6   MRP               1246 non-null   float64\n",
      " 7   Discount_Applied  832 non-null    float64\n",
      " 8   Revenue           2500 non-null   float64\n",
      " 9   Order_Date        1884 non-null   object \n",
      " 10  Sales_Channel     2500 non-null   object \n",
      " 11  Region            2500 non-null   object \n",
      " 12  Profit            2500 non-null   float64\n",
      "dtypes: float64(5), int64(1), object(7)\n",
      "memory usage: 254.0+ KB\n"
     ]
    }
   ],
   "source": [
    "df.info()"
   ]
  },
  {
   "cell_type": "code",
   "execution_count": 383,
   "id": "56d4f2b7-2d54-4ed5-b8c8-510cc83bdd85",
   "metadata": {},
   "outputs": [
    {
     "data": {
      "text/plain": [
       "Order_ID               0\n",
       "Gender_Category        0\n",
       "Product_Line           0\n",
       "Product_Name           0\n",
       "Size                 510\n",
       "Units_Sold          1235\n",
       "MRP                 1254\n",
       "Discount_Applied    1668\n",
       "Revenue                0\n",
       "Order_Date           616\n",
       "Sales_Channel          0\n",
       "Region                 0\n",
       "Profit                 0\n",
       "dtype: int64"
      ]
     },
     "execution_count": 383,
     "metadata": {},
     "output_type": "execute_result"
    }
   ],
   "source": [
    "df.isnull().sum()"
   ]
  },
  {
   "cell_type": "code",
   "execution_count": 385,
   "id": "3ca1576a-aaf6-4acf-878b-5cd40b256399",
   "metadata": {},
   "outputs": [
    {
     "name": "stderr",
     "output_type": "stream",
     "text": [
      "C:\\Users\\Dell\\AppData\\Local\\Temp\\ipykernel_10260\\3815930172.py:3: FutureWarning: A value is trying to be set on a copy of a DataFrame or Series through chained assignment using an inplace method.\n",
      "The behavior will change in pandas 3.0. This inplace method will never work because the intermediate object on which we are setting values always behaves as a copy.\n",
      "\n",
      "For example, when doing 'df[col].method(value, inplace=True)', try using 'df.method({col: value}, inplace=True)' or df[col] = df[col].method(value) instead, to perform the operation inplace on the original object.\n",
      "\n",
      "\n",
      "  df['Size'].fillna(mode_value, inplace=True)\n"
     ]
    }
   ],
   "source": [
    "# Assuming df is your DataFrame\n",
    "mode_value = df['Size'].mode().iloc[0]  # Get the first mode value (in case there are multiple)\n",
    "df['Size'].fillna(mode_value, inplace=True)"
   ]
  },
  {
   "cell_type": "code",
   "execution_count": 387,
   "id": "dc175521-3874-4828-a4cc-26da5e5f8d0f",
   "metadata": {},
   "outputs": [
    {
     "data": {
      "text/plain": [
       "Order_ID               0\n",
       "Gender_Category        0\n",
       "Product_Line           0\n",
       "Product_Name           0\n",
       "Size                   0\n",
       "Units_Sold          1235\n",
       "MRP                 1254\n",
       "Discount_Applied    1668\n",
       "Revenue                0\n",
       "Order_Date           616\n",
       "Sales_Channel          0\n",
       "Region                 0\n",
       "Profit                 0\n",
       "dtype: int64"
      ]
     },
     "execution_count": 387,
     "metadata": {},
     "output_type": "execute_result"
    }
   ],
   "source": [
    "df.isnull().sum()"
   ]
  },
  {
   "cell_type": "code",
   "execution_count": 389,
   "id": "6e70517c-0c78-4353-b368-cc1dada84d06",
   "metadata": {},
   "outputs": [
    {
     "name": "stderr",
     "output_type": "stream",
     "text": [
      "C:\\Users\\Dell\\AppData\\Local\\Temp\\ipykernel_10260\\2145724716.py:1: FutureWarning: A value is trying to be set on a copy of a DataFrame or Series through chained assignment using an inplace method.\n",
      "The behavior will change in pandas 3.0. This inplace method will never work because the intermediate object on which we are setting values always behaves as a copy.\n",
      "\n",
      "For example, when doing 'df[col].method(value, inplace=True)', try using 'df.method({col: value}, inplace=True)' or df[col] = df[col].method(value) instead, to perform the operation inplace on the original object.\n",
      "\n",
      "\n",
      "  df['Units_Sold'].fillna('0', inplace=True)\n",
      "C:\\Users\\Dell\\AppData\\Local\\Temp\\ipykernel_10260\\2145724716.py:1: FutureWarning: Setting an item of incompatible dtype is deprecated and will raise an error in a future version of pandas. Value '0' has dtype incompatible with float64, please explicitly cast to a compatible dtype first.\n",
      "  df['Units_Sold'].fillna('0', inplace=True)\n"
     ]
    }
   ],
   "source": [
    "df['Units_Sold'].fillna('0', inplace=True)"
   ]
  },
  {
   "cell_type": "code",
   "execution_count": 391,
   "id": "02a8f8b8-4485-4faa-99ee-2650019cf5ae",
   "metadata": {},
   "outputs": [
    {
     "data": {
      "text/plain": [
       "Order_ID               0\n",
       "Gender_Category        0\n",
       "Product_Line           0\n",
       "Product_Name           0\n",
       "Size                   0\n",
       "Units_Sold             0\n",
       "MRP                 1254\n",
       "Discount_Applied    1668\n",
       "Revenue                0\n",
       "Order_Date           616\n",
       "Sales_Channel          0\n",
       "Region                 0\n",
       "Profit                 0\n",
       "dtype: int64"
      ]
     },
     "execution_count": 391,
     "metadata": {},
     "output_type": "execute_result"
    }
   ],
   "source": [
    "df.isnull().sum()"
   ]
  },
  {
   "cell_type": "code",
   "execution_count": 392,
   "id": "785e8acb-71e2-4374-866e-cf8470be5a12",
   "metadata": {},
   "outputs": [
    {
     "name": "stderr",
     "output_type": "stream",
     "text": [
      "C:\\Users\\Dell\\AppData\\Local\\Temp\\ipykernel_10260\\56281200.py:1: FutureWarning: A value is trying to be set on a copy of a DataFrame or Series through chained assignment using an inplace method.\n",
      "The behavior will change in pandas 3.0. This inplace method will never work because the intermediate object on which we are setting values always behaves as a copy.\n",
      "\n",
      "For example, when doing 'df[col].method(value, inplace=True)', try using 'df.method({col: value}, inplace=True)' or df[col] = df[col].method(value) instead, to perform the operation inplace on the original object.\n",
      "\n",
      "\n",
      "  df['MRP'].fillna(df['MRP'].mean(), inplace=True)\n"
     ]
    }
   ],
   "source": [
    "df['MRP'].fillna(df['MRP'].mean(), inplace=True)"
   ]
  },
  {
   "cell_type": "code",
   "execution_count": 395,
   "id": "eb6459f2-a655-4620-925b-2bd03a2130ca",
   "metadata": {
    "scrolled": true
   },
   "outputs": [
    {
     "data": {
      "text/plain": [
       "Order_ID               0\n",
       "Gender_Category        0\n",
       "Product_Line           0\n",
       "Product_Name           0\n",
       "Size                   0\n",
       "Units_Sold             0\n",
       "MRP                    0\n",
       "Discount_Applied    1668\n",
       "Revenue                0\n",
       "Order_Date           616\n",
       "Sales_Channel          0\n",
       "Region                 0\n",
       "Profit                 0\n",
       "dtype: int64"
      ]
     },
     "execution_count": 395,
     "metadata": {},
     "output_type": "execute_result"
    }
   ],
   "source": [
    "df.isnull().sum()"
   ]
  },
  {
   "cell_type": "code",
   "execution_count": 397,
   "id": "529467f7-37cd-441a-8962-b342dc177a21",
   "metadata": {},
   "outputs": [
    {
     "name": "stderr",
     "output_type": "stream",
     "text": [
      "C:\\Users\\Dell\\AppData\\Local\\Temp\\ipykernel_10260\\1900317627.py:1: FutureWarning: A value is trying to be set on a copy of a DataFrame or Series through chained assignment using an inplace method.\n",
      "The behavior will change in pandas 3.0. This inplace method will never work because the intermediate object on which we are setting values always behaves as a copy.\n",
      "\n",
      "For example, when doing 'df[col].method(value, inplace=True)', try using 'df.method({col: value}, inplace=True)' or df[col] = df[col].method(value) instead, to perform the operation inplace on the original object.\n",
      "\n",
      "\n",
      "  df['Discount_Applied'].fillna('0', inplace=True)\n",
      "C:\\Users\\Dell\\AppData\\Local\\Temp\\ipykernel_10260\\1900317627.py:1: FutureWarning: Setting an item of incompatible dtype is deprecated and will raise an error in a future version of pandas. Value '0' has dtype incompatible with float64, please explicitly cast to a compatible dtype first.\n",
      "  df['Discount_Applied'].fillna('0', inplace=True)\n"
     ]
    }
   ],
   "source": [
    "df['Discount_Applied'].fillna('0', inplace=True)"
   ]
  },
  {
   "cell_type": "code",
   "execution_count": 399,
   "id": "a2c33d13-9374-480d-872d-6deb8991f404",
   "metadata": {},
   "outputs": [
    {
     "data": {
      "text/plain": [
       "Order_ID              0\n",
       "Gender_Category       0\n",
       "Product_Line          0\n",
       "Product_Name          0\n",
       "Size                  0\n",
       "Units_Sold            0\n",
       "MRP                   0\n",
       "Discount_Applied      0\n",
       "Revenue               0\n",
       "Order_Date          616\n",
       "Sales_Channel         0\n",
       "Region                0\n",
       "Profit                0\n",
       "dtype: int64"
      ]
     },
     "execution_count": 399,
     "metadata": {},
     "output_type": "execute_result"
    }
   ],
   "source": [
    "df.isnull().sum()"
   ]
  },
  {
   "cell_type": "code",
   "execution_count": 401,
   "id": "710813b0-0712-49c7-a3c5-0241e07918c3",
   "metadata": {},
   "outputs": [],
   "source": [
    "df = df[df['Order_Date'].notna()]            # Remove NaN (null) values\n",
    "df = df[df['Order_Date'].str.strip() != '']  # Remove empty strings if any"
   ]
  },
  {
   "cell_type": "code",
   "execution_count": 403,
   "id": "206a940a-03ab-49d3-8076-444cc6777310",
   "metadata": {},
   "outputs": [
    {
     "data": {
      "text/plain": [
       "Order_ID            0\n",
       "Gender_Category     0\n",
       "Product_Line        0\n",
       "Product_Name        0\n",
       "Size                0\n",
       "Units_Sold          0\n",
       "MRP                 0\n",
       "Discount_Applied    0\n",
       "Revenue             0\n",
       "Order_Date          0\n",
       "Sales_Channel       0\n",
       "Region              0\n",
       "Profit              0\n",
       "dtype: int64"
      ]
     },
     "execution_count": 403,
     "metadata": {},
     "output_type": "execute_result"
    }
   ],
   "source": [
    "df.isnull().sum()"
   ]
  },
  {
   "cell_type": "code",
   "execution_count": 405,
   "id": "f3f3e139-c31a-4d8a-8300-56b1a4b3c863",
   "metadata": {},
   "outputs": [
    {
     "name": "stdout",
     "output_type": "stream",
     "text": [
      "   Order_ID Gender_Category Product_Line    Product_Name Size Units_Sold  \\\n",
      "0      2000            Kids     Training     SuperRep Go    M          0   \n",
      "1      2001           Women       Soccer   Tiempo Legend    M        3.0   \n",
      "3      2003            Kids    Lifestyle      Blazer Mid    L          0   \n",
      "4      2004            Kids      Running  React Infinity   XL          0   \n",
      "6      2006             Men     Training     SuperRep Go    M          0   \n",
      "\n",
      "           MRP Discount_Applied  Revenue  Order_Date Sales_Channel     Region  \\\n",
      "0  6039.863395             0.47      0.0  2024-03-09        Online  bengaluru   \n",
      "1  4957.930000                0      0.0  2024-07-09        Retail        Hyd   \n",
      "3  9673.570000                0      0.0  04-10-2024        Online       Pune   \n",
      "4  6039.863395                0      0.0  2024/09/12        Retail      Delhi   \n",
      "6  6819.780000                0      0.0  04-06-2025        Online  Bangalore   \n",
      "\n",
      "    Profit  \n",
      "0  -770.45  \n",
      "1  -112.53  \n",
      "3  3376.85  \n",
      "4   187.89  \n",
      "6  1802.09  \n"
     ]
    }
   ],
   "source": [
    "print(df.head())"
   ]
  },
  {
   "cell_type": "code",
   "execution_count": 407,
   "id": "15eee628-94e3-4104-9d97-35e1d469f1c1",
   "metadata": {},
   "outputs": [
    {
     "data": {
      "text/plain": [
       "7"
      ]
     },
     "execution_count": 407,
     "metadata": {},
     "output_type": "execute_result"
    }
   ],
   "source": [
    "df['Units_Sold'].nunique()"
   ]
  },
  {
   "cell_type": "code",
   "execution_count": 409,
   "id": "08b5880f-d79d-484b-ac3d-ff8f00b91560",
   "metadata": {},
   "outputs": [
    {
     "name": "stdout",
     "output_type": "stream",
     "text": [
      "['0' 3.0 -1.0 1.0 4.0 0.0 2.0]\n"
     ]
    }
   ],
   "source": [
    "print(df['Units_Sold'].unique())"
   ]
  },
  {
   "cell_type": "code",
   "execution_count": 411,
   "id": "d008f80f-30a3-4e7a-bbe0-e7dd32e8fd7c",
   "metadata": {},
   "outputs": [
    {
     "data": {
      "text/plain": [
       "158"
      ]
     },
     "execution_count": 411,
     "metadata": {},
     "output_type": "execute_result"
    }
   ],
   "source": [
    "count_minus_1 = (df['Units_Sold'] == -1).sum()\n",
    "count_minus_1"
   ]
  },
  {
   "cell_type": "code",
   "execution_count": 413,
   "id": "360bb008-95ad-46c0-a3b0-181d57ffa770",
   "metadata": {},
   "outputs": [],
   "source": [
    "df = df[df['Units_Sold'] != -1]"
   ]
  },
  {
   "cell_type": "code",
   "execution_count": 415,
   "id": "ff3e9ea2-2233-4dfc-80ac-20ac163c518f",
   "metadata": {},
   "outputs": [
    {
     "name": "stdout",
     "output_type": "stream",
     "text": [
      "['0' 3.0 1.0 4.0 0.0 2.0]\n"
     ]
    }
   ],
   "source": [
    "print(df['Units_Sold'].unique())"
   ]
  },
  {
   "cell_type": "code",
   "execution_count": 417,
   "id": "aa74e9fa-2b2c-416a-b94e-49829d469612",
   "metadata": {},
   "outputs": [
    {
     "data": {
      "text/plain": [
       "Index(['Order_ID', 'Gender_Category', 'Product_Line', 'Product_Name', 'Size',\n",
       "       'Units_Sold', 'MRP', 'Discount_Applied', 'Revenue', 'Order_Date',\n",
       "       'Sales_Channel', 'Region', 'Profit'],\n",
       "      dtype='object')"
      ]
     },
     "execution_count": 417,
     "metadata": {},
     "output_type": "execute_result"
    }
   ],
   "source": [
    "df.columns"
   ]
  },
  {
   "cell_type": "code",
   "execution_count": 419,
   "id": "39ad5be5-58cf-48bd-ac45-24093f8f2caa",
   "metadata": {},
   "outputs": [
    {
     "name": "stdout",
     "output_type": "stream",
     "text": [
      "['Kids' 'Women' 'Men']\n"
     ]
    }
   ],
   "source": [
    "print(df['Gender_Category'].unique())"
   ]
  },
  {
   "cell_type": "code",
   "execution_count": 421,
   "id": "c71b69c9-c8d5-4256-b0a9-b5f802ca7ffb",
   "metadata": {},
   "outputs": [
    {
     "data": {
      "text/plain": [
       "586"
      ]
     },
     "execution_count": 421,
     "metadata": {},
     "output_type": "execute_result"
    }
   ],
   "source": [
    "count_kids = (df['Gender_Category'] == 'Kids').sum()\n",
    "count_kids"
   ]
  },
  {
   "cell_type": "code",
   "execution_count": 423,
   "id": "0bd8e9d2-8e36-46a9-9c9e-3794c794d384",
   "metadata": {},
   "outputs": [
    {
     "data": {
      "text/plain": [
       "560"
      ]
     },
     "execution_count": 423,
     "metadata": {},
     "output_type": "execute_result"
    }
   ],
   "source": [
    "count_woman = (df['Gender_Category'] == 'Women').sum()\n",
    "count_woman"
   ]
  },
  {
   "cell_type": "code",
   "execution_count": 425,
   "id": "78594dc2-c8ad-4965-ae01-f688d7a13cc5",
   "metadata": {},
   "outputs": [
    {
     "data": {
      "text/plain": [
       "580"
      ]
     },
     "execution_count": 425,
     "metadata": {},
     "output_type": "execute_result"
    }
   ],
   "source": [
    "count_man = (df['Gender_Category'] == 'Men').sum()\n",
    "count_man"
   ]
  },
  {
   "cell_type": "code",
   "execution_count": 427,
   "id": "5a2943ef-8efd-45d2-add8-9a10735140fb",
   "metadata": {},
   "outputs": [
    {
     "name": "stdout",
     "output_type": "stream",
     "text": [
      "['Training' 'Soccer' 'Lifestyle' 'Running' 'Basketball']\n"
     ]
    }
   ],
   "source": [
    "print(df['Product_Line'].unique())"
   ]
  },
  {
   "cell_type": "code",
   "execution_count": 429,
   "id": "d4f2cd0e-3ac5-45e1-94a1-cb9e0add95ad",
   "metadata": {},
   "outputs": [
    {
     "data": {
      "text/html": [
       "<div>\n",
       "<style scoped>\n",
       "    .dataframe tbody tr th:only-of-type {\n",
       "        vertical-align: middle;\n",
       "    }\n",
       "\n",
       "    .dataframe tbody tr th {\n",
       "        vertical-align: top;\n",
       "    }\n",
       "\n",
       "    .dataframe thead th {\n",
       "        text-align: right;\n",
       "    }\n",
       "</style>\n",
       "<table border=\"1\" class=\"dataframe\">\n",
       "  <thead>\n",
       "    <tr style=\"text-align: right;\">\n",
       "      <th></th>\n",
       "      <th>Product_Line</th>\n",
       "      <th>Product_Name</th>\n",
       "    </tr>\n",
       "  </thead>\n",
       "  <tbody>\n",
       "    <tr>\n",
       "      <th>0</th>\n",
       "      <td>Basketball</td>\n",
       "      <td>368</td>\n",
       "    </tr>\n",
       "    <tr>\n",
       "      <th>1</th>\n",
       "      <td>Lifestyle</td>\n",
       "      <td>353</td>\n",
       "    </tr>\n",
       "    <tr>\n",
       "      <th>2</th>\n",
       "      <td>Running</td>\n",
       "      <td>315</td>\n",
       "    </tr>\n",
       "    <tr>\n",
       "      <th>3</th>\n",
       "      <td>Soccer</td>\n",
       "      <td>329</td>\n",
       "    </tr>\n",
       "    <tr>\n",
       "      <th>4</th>\n",
       "      <td>Training</td>\n",
       "      <td>361</td>\n",
       "    </tr>\n",
       "  </tbody>\n",
       "</table>\n",
       "</div>"
      ],
      "text/plain": [
       "  Product_Line  Product_Name\n",
       "0   Basketball           368\n",
       "1    Lifestyle           353\n",
       "2      Running           315\n",
       "3       Soccer           329\n",
       "4     Training           361"
      ]
     },
     "execution_count": 429,
     "metadata": {},
     "output_type": "execute_result"
    }
   ],
   "source": [
    "df.groupby('Product_Line')['Product_Name'].count().reset_index()"
   ]
  },
  {
   "cell_type": "code",
   "execution_count": 431,
   "id": "6781574f-5c13-4e31-a1f2-d57c95b9aaee",
   "metadata": {},
   "outputs": [
    {
     "name": "stdout",
     "output_type": "stream",
     "text": [
      "   Order_ID Gender_Category Product_Line    Product_Name Size Units_Sold  \\\n",
      "0      2000            Kids     Training     SuperRep Go    M          0   \n",
      "1      2001           Women       Soccer   Tiempo Legend    M        3.0   \n",
      "3      2003            Kids    Lifestyle      Blazer Mid    L          0   \n",
      "4      2004            Kids      Running  React Infinity   XL          0   \n",
      "6      2006             Men     Training     SuperRep Go    M          0   \n",
      "\n",
      "           MRP Discount_Applied  Revenue  Order_Date Sales_Channel     Region  \\\n",
      "0  6039.863395             0.47      0.0  2024-03-09        Online  bengaluru   \n",
      "1  4957.930000                0      0.0  2024-07-09        Retail        Hyd   \n",
      "3  9673.570000                0      0.0  04-10-2024        Online       Pune   \n",
      "4  6039.863395                0      0.0  2024/09/12        Retail      Delhi   \n",
      "6  6819.780000                0      0.0  04-06-2025        Online  Bangalore   \n",
      "\n",
      "    Profit  \n",
      "0  -770.45  \n",
      "1  -112.53  \n",
      "3  3376.85  \n",
      "4   187.89  \n",
      "6  1802.09  \n"
     ]
    }
   ],
   "source": [
    "print(df.head())"
   ]
  },
  {
   "cell_type": "code",
   "execution_count": 433,
   "id": "e63e16a9-c1a2-46ec-bfdd-07941a97afb6",
   "metadata": {},
   "outputs": [
    {
     "name": "stdout",
     "output_type": "stream",
     "text": [
      "          Product_Name  Units_Sold\n",
      "0          Air Force 1          82\n",
      "1           Air Jordan         102\n",
      "2             Air Zoom          71\n",
      "3           Blazer Mid          93\n",
      "4             Dunk Low          85\n",
      "5         Flex Trainer          89\n",
      "6              Free RN          78\n",
      "7        Kyrie Flytrap          79\n",
      "8            LeBron 20          98\n",
      "9   Mercurial Superfly          77\n",
      "10            Metcon 7          80\n",
      "11       Pegasus Turbo          69\n",
      "12          Phantom GT          91\n",
      "13         Premier III          86\n",
      "14      React Infinity          97\n",
      "15         SuperRep Go          97\n",
      "16       Tiempo Legend          75\n",
      "17          Waffle One          93\n",
      "18          Zoom Freak          89\n",
      "19    ZoomX Invincible          95\n"
     ]
    }
   ],
   "source": [
    "product_counts = df.groupby('Product_Name')['Units_Sold'].count().reset_index()\n",
    "print(product_counts)"
   ]
  },
  {
   "cell_type": "code",
   "execution_count": 435,
   "id": "47a6d8c7-f17f-46bb-b08e-7987c74b498f",
   "metadata": {},
   "outputs": [
    {
     "data": {
      "image/png": "[encoded data removed]",
      "text/plain": [
       "<Figure size 1200x600 with 1 Axes>"
      ]
     },
     "metadata": {},
     "output_type": "display_data"
    }
   ],
   "source": [
    "# Plot\n",
    "plt.figure(figsize=(12, 6))\n",
    "plt.bar(product_counts['Product_Name'], product_counts['Units_Sold'], color='skyblue')\n",
    "plt.xlabel('Product Name')\n",
    "plt.ylabel('Units Sold (Count)')\n",
    "plt.title('Units Sold Count by Product Name')\n",
    "plt.xticks(rotation=90, ha='right')\n",
    "plt.tight_layout()\n",
    "plt.show()"
   ]
  },
  {
   "cell_type": "code",
   "execution_count": 436,
   "id": "c32ec2dc-c191-4570-bf3c-0912ac2b1f39",
   "metadata": {},
   "outputs": [
    {
     "name": "stdout",
     "output_type": "stream",
     "text": [
      "  Product_Line  Units_Sold\n",
      "0   Basketball         368\n",
      "1    Lifestyle         353\n",
      "2      Running         315\n",
      "3       Soccer         329\n",
      "4     Training         361\n"
     ]
    }
   ],
   "source": [
    "print(df.groupby('Product_Line')['Units_Sold'].count().reset_index())"
   ]
  },
  {
   "cell_type": "code",
   "execution_count": 437,
   "id": "db434fc7-0656-478a-a2fc-bc3806488381",
   "metadata": {},
   "outputs": [
    {
     "name": "stdout",
     "output_type": "stream",
     "text": [
      "['Online' 'Retail']\n"
     ]
    }
   ],
   "source": [
    "print(df['Sales_Channel'].unique())"
   ]
  },
  {
   "cell_type": "code",
   "execution_count": 441,
   "id": "7ca26873-8fa0-4ff0-a376-120d0e752b33",
   "metadata": {},
   "outputs": [
    {
     "name": "stdout",
     "output_type": "stream",
     "text": [
      "866\n"
     ]
    }
   ],
   "source": [
    "count_online = (df['Sales_Channel'] == 'Online').sum()\n",
    "print(count_online)"
   ]
  },
  {
   "cell_type": "code",
   "execution_count": 443,
   "id": "b5f39214-ae92-4cf5-b268-04a3d52a57fe",
   "metadata": {},
   "outputs": [
    {
     "data": {
      "text/plain": [
       "860"
      ]
     },
     "execution_count": 443,
     "metadata": {},
     "output_type": "execute_result"
    }
   ],
   "source": [
    "count_Retail = (df['Sales_Channel'] == 'Retail').sum()\n",
    "count_Retail"
   ]
  },
  {
   "cell_type": "code",
   "execution_count": 445,
   "id": "4c71c2bf-ec97-41c0-b1af-e14b076939d7",
   "metadata": {},
   "outputs": [
    {
     "name": "stdout",
     "output_type": "stream",
     "text": [
      "['bengaluru' 'Hyd' 'Pune' 'Delhi' 'Bangalore' 'hyderbad' 'Kolkata'\n",
      " 'Hyderabad' 'Mumbai']\n"
     ]
    }
   ],
   "source": [
    "print(df['Region'].unique())"
   ]
  },
  {
   "cell_type": "code",
   "execution_count": 447,
   "id": "5d717f7c-ff98-4f63-befb-ceda63991b24",
   "metadata": {},
   "outputs": [],
   "source": [
    "df['Region'] = df['Region'].replace({'Bengaluru': 'Bangalore', 'bengaluru': 'Bangalore'})"
   ]
  },
  {
   "cell_type": "code",
   "execution_count": 449,
   "id": "fc6ff858-6598-4071-a9e8-c7e4c3e2807b",
   "metadata": {},
   "outputs": [
    {
     "name": "stdout",
     "output_type": "stream",
     "text": [
      "['Bangalore' 'Hyd' 'Pune' 'Delhi' 'hyderbad' 'Kolkata' 'Hyderabad'\n",
      " 'Mumbai']\n"
     ]
    }
   ],
   "source": [
    "print(df['Region'].unique())"
   ]
  },
  {
   "cell_type": "code",
   "execution_count": 451,
   "id": "ebaa772c-ce3c-467c-8364-b3377bf31ed2",
   "metadata": {},
   "outputs": [],
   "source": [
    "df['Region'] = df['Region'].replace({'Hyd': 'hyderbad'})"
   ]
  },
  {
   "cell_type": "code",
   "execution_count": 453,
   "id": "f141c019-6c19-4792-bab0-33c5533387f7",
   "metadata": {},
   "outputs": [
    {
     "name": "stdout",
     "output_type": "stream",
     "text": [
      "['Bangalore' 'hyderbad' 'Pune' 'Delhi' 'Kolkata' 'Hyderabad' 'Mumbai']\n"
     ]
    }
   ],
   "source": [
    "print(df['Region'].unique())"
   ]
  },
  {
   "cell_type": "code",
   "execution_count": 455,
   "id": "677e48d8-9b2c-4eba-9f12-a13722955fe7",
   "metadata": {},
   "outputs": [],
   "source": [
    "df['Region'] = df['Region'].replace({'hyderbad': 'Hyderabad'})"
   ]
  },
  {
   "cell_type": "code",
   "execution_count": 457,
   "id": "4a55f629-e738-4c84-8434-9d9bf727bb0d",
   "metadata": {},
   "outputs": [
    {
     "name": "stdout",
     "output_type": "stream",
     "text": [
      "['Bangalore' 'Hyderabad' 'Pune' 'Delhi' 'Kolkata' 'Mumbai']\n"
     ]
    }
   ],
   "source": [
    "print(df['Region'].unique())"
   ]
  },
  {
   "cell_type": "code",
   "execution_count": 459,
   "id": "2ca57f21-2527-4137-a8c8-966da0aa3ef1",
   "metadata": {},
   "outputs": [],
   "source": [
    "df['Product_Name'] = df['Product_Name'].astype(str)\n",
    "df['Region'] = df['Region'].astype(str)"
   ]
  },
  {
   "cell_type": "code",
   "execution_count": 461,
   "id": "df3da535-e965-4fc5-8343-5ab55530e8c9",
   "metadata": {},
   "outputs": [],
   "source": [
    "df['Units_Sold'] = pd.to_numeric(df['Units_Sold'], errors='coerce')"
   ]
  },
  {
   "cell_type": "code",
   "execution_count": 463,
   "id": "4d59963a-363d-43fa-b0fa-48d4f357f9cf",
   "metadata": {},
   "outputs": [
    {
     "name": "stdout",
     "output_type": "stream",
     "text": [
      "      Region Product_Name  Units_Sold\n",
      "0  Bangalore  Air Force 1        15.0\n",
      "1  Bangalore   Air Jordan        11.0\n",
      "2  Bangalore     Air Zoom         8.0\n",
      "3  Bangalore   Blazer Mid        12.0\n",
      "4  Bangalore     Dunk Low        12.0\n"
     ]
    }
   ],
   "source": [
    "# Count of each product per region\n",
    "region_product_sales = df.groupby(['Region', 'Product_Name'])['Units_Sold'].sum().reset_index()\n",
    "print(region_product_sales.head())"
   ]
  },
  {
   "cell_type": "code",
   "execution_count": 465,
   "id": "f3f3a915-4688-4c61-89d0-1e81f3862560",
   "metadata": {},
   "outputs": [
    {
     "name": "stdout",
     "output_type": "stream",
     "text": [
      "      Region  Units_Sold\n",
      "0  Bangalore         301\n",
      "1      Delhi         296\n",
      "2  Hyderabad         288\n",
      "3    Kolkata         285\n",
      "4     Mumbai         295\n"
     ]
    }
   ],
   "source": [
    "region_sales = df.groupby('Region')['Units_Sold'].count().reset_index()\n",
    "print(region_sales.head())"
   ]
  },
  {
   "cell_type": "code",
   "execution_count": 467,
   "id": "0cc32f2d-6bc7-4142-9938-93cbe651e2db",
   "metadata": {},
   "outputs": [
    {
     "data": {
      "image/png": "[encoded data removed]",
      "text/plain": [
       "<Figure size 1200x600 with 1 Axes>"
      ]
     },
     "metadata": {},
     "output_type": "display_data"
    }
   ],
   "source": [
    "# Plot\n",
    "plt.figure(figsize=(12, 6))\n",
    "plt.bar(region_sales['Region'], region_sales['Units_Sold'], color='skyblue')\n",
    "plt.xlabel('Region')\n",
    "plt.ylabel('Units Sold (Count)')\n",
    "plt.title('Units Sold Count by Region')\n",
    "plt.xticks(rotation=90, ha='right')\n",
    "plt.tight_layout()\n",
    "plt.show()"
   ]
  },
  {
   "cell_type": "code",
   "execution_count": null,
   "id": "98693a6e-43a0-43f9-ae74-9853e1bc0a7a",
   "metadata": {},
   "outputs": [],
   "source": []
  }
 ],
 "metadata": {
  "kernelspec": {
   "display_name": "Python 3 (ipykernel)",
   "language": "python",
   "name": "python3"
  },
  "language_info": {
   "codemirror_mode": {
    "name": "ipython",
    "version": 3
   },
   "file_extension": ".py",
   "mimetype": "text/x-python",
   "name": "python",
   "nbconvert_exporter": "python",
   "pygments_lexer": "ipython3",
   "version": "3.12.4"
  }
 },
 "nbformat": 4,
 "nbformat_minor": 5
}
